{
 "cells": [
  {
   "cell_type": "code",
   "execution_count": 2,
   "metadata": {},
   "outputs": [],
   "source": [
    "import csv\n",
    "import numpy as np"
   ]
  },
  {
   "cell_type": "code",
   "execution_count": 3,
   "metadata": {},
   "outputs": [],
   "source": [
    "class IndustryModel:\n",
    "    def __init__(self, industry, subindustry, total_revenue):\n",
    "        self.industry = industry\n",
    "        self.subindustry = subindustry\n",
    "        self.total_revenue = total_revenue\n",
    "    def __str__(self):\n",
    "        return self.industry + \" : \" + self.subindustry + \" $ \" + str(self.total_revenue)"
   ]
  },
  {
   "cell_type": "code",
   "execution_count": 4,
   "metadata": {},
   "outputs": [
    {
     "name": "stdout",
     "output_type": "stream",
     "text": [
      "[<__main__.IndustryModel object at 0x10f158170>, <__main__.IndustryModel object at 0x10f141970>, <__main__.IndustryModel object at 0x10eab87a0>, <__main__.IndustryModel object at 0x10ea731a0>, <__main__.IndustryModel object at 0x10e95ffe0>, <__main__.IndustryModel object at 0x10e95eed0>, <__main__.IndustryModel object at 0x10e95ee40>, <__main__.IndustryModel object at 0x10f1bd1c0>, <__main__.IndustryModel object at 0x10f1bcce0>, <__main__.IndustryModel object at 0x10f1bcef0>, <__main__.IndustryModel object at 0x10f1bcc80>, <__main__.IndustryModel object at 0x10f1bcc20>, <__main__.IndustryModel object at 0x10f1bcd40>, <__main__.IndustryModel object at 0x10f1bcda0>, <__main__.IndustryModel object at 0x10f1bce00>, <__main__.IndustryModel object at 0x10f1bce30>, <__main__.IndustryModel object at 0x10f1bcc50>, <__main__.IndustryModel object at 0x10f1bcd10>, <__main__.IndustryModel object at 0x10f1bce90>, <__main__.IndustryModel object at 0x10f1bcf20>, <__main__.IndustryModel object at 0x10f1bcf50>, <__main__.IndustryModel object at 0x10f1bcec0>, <__main__.IndustryModel object at 0x10f1bd0d0>, <__main__.IndustryModel object at 0x10f1bd010>, <__main__.IndustryModel object at 0x10f1bd040>, <__main__.IndustryModel object at 0x10f1bd070>, <__main__.IndustryModel object at 0x10e95f0e0>]\n"
     ]
    }
   ],
   "source": [
    "industries = []\n",
    "with open('data.csv','r') as csv_file:\n",
    "    reader = csv.reader(csv_file)\n",
    "    line_count = 0\n",
    "    for row in reader:\n",
    "        if line_count != 0:\n",
    "            rowModel = IndustryModel(row[0],row[1],int(row[2]))\n",
    "            industries.append(rowModel)\n",
    "        line_count += 1\n",
    "    print(industries)"
   ]
  },
  {
   "cell_type": "code",
   "execution_count": 5,
   "metadata": {},
   "outputs": [
    {
     "name": "stdout",
     "output_type": "stream",
     "text": [
      "Manufacturing : Consumer Electronics & Computers Retail $ 86153757\n",
      "Retail : Automobile Dealers $ 56803298\n",
      "Retail : Grocery Retail $ 54269326\n",
      "Retail : Department Stores, Shopping Centers & Superstores $ 43550263\n",
      "Retail : Apparel & Accessories Retail $ 20639533\n",
      "Retail : Flowers, Gifts & Specialty Stores $ 17827120\n",
      "Manufacturing : Automobile Dealers $ 15383793\n",
      "Retail : Home Improvement & Hardware Retail $ 8162494\n",
      "Retail : Vitamins, Supplements & Health Stores $ 5895492\n",
      "Retail : Pet Products $ 5630498\n",
      "Manufacturing : Toys & Games $ 5298149\n",
      "Business Services : Automobile Dealers $ 4464523\n",
      "Retail : Sporting & Recreational Equipment Retail $ 3342220\n",
      "Retail : Furniture $ 3189395\n",
      "Construction : Grocery Retail $ 2962846\n",
      "Manufacturing : Flowers, Gifts & Specialty Stores $ 2590605\n",
      "Manufacturing : Furniture $ 2391198\n",
      "Manufacturing : Jewelry & Watch Retail $ 1846751\n",
      "Construction : Home Improvement & Hardware Retail $ 1785388\n",
      "Agriculture : Grocery Retail $ 1672833\n",
      "Consumer Services : Automobile Dealers $ 1554750\n",
      "Retail : Convenience Stores, Gas Stations & Liquor Stores $ 1228061\n",
      "Retail : Jewelry & Watch Retail $ 1125772\n",
      "Manufacturing : Home Improvement & Hardware Retail $ 735383\n",
      "Government : Grocery Retail $ 728379\n",
      "Retail :  $ 544569\n",
      "Construction : Automobile Dealers $ 430870\n"
     ]
    }
   ],
   "source": [
    "for industry in industries:\n",
    "    print(industry)\n",
    "\n",
    "# list_ind = [industry for industry in industries]\n",
    "# print(list_ind[::])"
   ]
  },
  {
   "cell_type": "code",
   "execution_count": 7,
   "metadata": {},
   "outputs": [
    {
     "name": "stdout",
     "output_type": "stream",
     "text": [
      "[['86153757' 'Manufacturing']\n",
      " ['56803298' 'Retail']\n",
      " ['54269326' 'Retail']\n",
      " ['43550263' 'Retail']\n",
      " ['20639533' 'Retail']\n",
      " ['17827120' 'Retail']\n",
      " ['15383793' 'Manufacturing']\n",
      " ['8162494' 'Retail']\n",
      " ['5895492' 'Retail']\n",
      " ['5630498' 'Retail']\n",
      " ['5298149' 'Manufacturing']\n",
      " ['4464523' 'Business Services']\n",
      " ['3342220' 'Retail']\n",
      " ['3189395' 'Retail']\n",
      " ['2962846' 'Construction']\n",
      " ['2590605' 'Manufacturing']\n",
      " ['2391198' 'Manufacturing']\n",
      " ['1846751' 'Manufacturing']\n",
      " ['1785388' 'Construction']\n",
      " ['1672833' 'Agriculture']\n",
      " ['1554750' 'Consumer Services']\n",
      " ['1228061' 'Retail']\n",
      " ['1125772' 'Retail']\n",
      " ['735383' 'Manufacturing']\n",
      " ['728379' 'Government']\n",
      " ['544569' 'Retail']\n",
      " ['430870' 'Construction']]\n"
     ]
    },
    {
     "ename": "UFuncTypeError",
     "evalue": "ufunc 'add' did not contain a loop with signature matching types (dtype('<U21'), dtype('<U21')) -> None",
     "output_type": "error",
     "traceback": [
      "\u001b[0;31m---------------------------------------------------------------------------\u001b[0m",
      "\u001b[0;31mUFuncTypeError\u001b[0m                            Traceback (most recent call last)",
      "Cell \u001b[0;32mIn[7], line 12\u001b[0m\n\u001b[1;32m      7\u001b[0m     \u001b[38;5;66;03m# print(np.mean(industry_types))\u001b[39;00m\n\u001b[1;32m      8\u001b[0m     \u001b[38;5;66;03m# print(np.mean(industry_types_long_way))\u001b[39;00m\n\u001b[1;32m      9\u001b[0m     \u001b[38;5;66;03m# print(np.median(industry_types))\u001b[39;00m\n\u001b[1;32m     10\u001b[0m     \u001b[38;5;66;03m# print(np.median(industry_types_long_way))\u001b[39;00m\n\u001b[1;32m     11\u001b[0m \u001b[38;5;28mprint\u001b[39m(industry_types)\n\u001b[0;32m---> 12\u001b[0m \u001b[38;5;28mprint\u001b[39m(\u001b[43mnp\u001b[49m\u001b[38;5;241;43m.\u001b[39;49m\u001b[43mmean\u001b[49m\u001b[43m(\u001b[49m\u001b[43mindustry_types\u001b[49m\u001b[43m)\u001b[49m)\n\u001b[1;32m     13\u001b[0m \u001b[38;5;28mprint\u001b[39m(np\u001b[38;5;241m.\u001b[39mmedian(industry_types))\n\u001b[1;32m     14\u001b[0m     \u001b[38;5;66;03m# print(industry_types_long_way)\u001b[39;00m\n",
      "File \u001b[0;32m/Library/Frameworks/Python.framework/Versions/3.12/lib/python3.12/site-packages/numpy/core/fromnumeric.py:3504\u001b[0m, in \u001b[0;36mmean\u001b[0;34m(a, axis, dtype, out, keepdims, where)\u001b[0m\n\u001b[1;32m   3501\u001b[0m     \u001b[38;5;28;01melse\u001b[39;00m:\n\u001b[1;32m   3502\u001b[0m         \u001b[38;5;28;01mreturn\u001b[39;00m mean(axis\u001b[38;5;241m=\u001b[39maxis, dtype\u001b[38;5;241m=\u001b[39mdtype, out\u001b[38;5;241m=\u001b[39mout, \u001b[38;5;241m*\u001b[39m\u001b[38;5;241m*\u001b[39mkwargs)\n\u001b[0;32m-> 3504\u001b[0m \u001b[38;5;28;01mreturn\u001b[39;00m \u001b[43m_methods\u001b[49m\u001b[38;5;241;43m.\u001b[39;49m\u001b[43m_mean\u001b[49m\u001b[43m(\u001b[49m\u001b[43ma\u001b[49m\u001b[43m,\u001b[49m\u001b[43m \u001b[49m\u001b[43maxis\u001b[49m\u001b[38;5;241;43m=\u001b[39;49m\u001b[43maxis\u001b[49m\u001b[43m,\u001b[49m\u001b[43m \u001b[49m\u001b[43mdtype\u001b[49m\u001b[38;5;241;43m=\u001b[39;49m\u001b[43mdtype\u001b[49m\u001b[43m,\u001b[49m\n\u001b[1;32m   3505\u001b[0m \u001b[43m                      \u001b[49m\u001b[43mout\u001b[49m\u001b[38;5;241;43m=\u001b[39;49m\u001b[43mout\u001b[49m\u001b[43m,\u001b[49m\u001b[43m \u001b[49m\u001b[38;5;241;43m*\u001b[39;49m\u001b[38;5;241;43m*\u001b[39;49m\u001b[43mkwargs\u001b[49m\u001b[43m)\u001b[49m\n",
      "File \u001b[0;32m/Library/Frameworks/Python.framework/Versions/3.12/lib/python3.12/site-packages/numpy/core/_methods.py:118\u001b[0m, in \u001b[0;36m_mean\u001b[0;34m(a, axis, dtype, out, keepdims, where)\u001b[0m\n\u001b[1;32m    115\u001b[0m         dtype \u001b[38;5;241m=\u001b[39m mu\u001b[38;5;241m.\u001b[39mdtype(\u001b[38;5;124m'\u001b[39m\u001b[38;5;124mf4\u001b[39m\u001b[38;5;124m'\u001b[39m)\n\u001b[1;32m    116\u001b[0m         is_float16_result \u001b[38;5;241m=\u001b[39m \u001b[38;5;28;01mTrue\u001b[39;00m\n\u001b[0;32m--> 118\u001b[0m ret \u001b[38;5;241m=\u001b[39m \u001b[43mumr_sum\u001b[49m\u001b[43m(\u001b[49m\u001b[43marr\u001b[49m\u001b[43m,\u001b[49m\u001b[43m \u001b[49m\u001b[43maxis\u001b[49m\u001b[43m,\u001b[49m\u001b[43m \u001b[49m\u001b[43mdtype\u001b[49m\u001b[43m,\u001b[49m\u001b[43m \u001b[49m\u001b[43mout\u001b[49m\u001b[43m,\u001b[49m\u001b[43m \u001b[49m\u001b[43mkeepdims\u001b[49m\u001b[43m,\u001b[49m\u001b[43m \u001b[49m\u001b[43mwhere\u001b[49m\u001b[38;5;241;43m=\u001b[39;49m\u001b[43mwhere\u001b[49m\u001b[43m)\u001b[49m\n\u001b[1;32m    119\u001b[0m \u001b[38;5;28;01mif\u001b[39;00m \u001b[38;5;28misinstance\u001b[39m(ret, mu\u001b[38;5;241m.\u001b[39mndarray):\n\u001b[1;32m    120\u001b[0m     \u001b[38;5;28;01mwith\u001b[39;00m _no_nep50_warning():\n",
      "\u001b[0;31mUFuncTypeError\u001b[0m: ufunc 'add' did not contain a loop with signature matching types (dtype('<U21'), dtype('<U21')) -> None"
     ]
    }
   ],
   "source": [
    "industry_types = np.array([[x.total_revenue,x.industry] for x in industries])\n",
    "# Equivalent to\n",
    "industry_types_long_way = []\n",
    "for x in industries:\n",
    "    industry_types_long_way.append(x.total_revenue)\n",
    "\n",
    "    # print(np.mean(industry_types))\n",
    "    # print(np.mean(industry_types_long_way))\n",
    "    # print(np.median(industry_types))\n",
    "    # print(np.median(industry_types_long_way))\n",
    "print(industry_types)\n",
    "print(np.mean(industry_types))\n",
    "print(np.median(industry_types))\n",
    "    # print(industry_types_long_way)"
   ]
  },
  {
   "cell_type": "code",
   "execution_count": null,
   "metadata": {},
   "outputs": [
    {
     "name": "stdout",
     "output_type": "stream",
     "text": [
      "6006713.777777778\n"
     ]
    }
   ],
   "source": [
    "total = 0\n",
    "count = 0\n",
    "for industry in industries:\n",
    "    if industry.total_revenue % 2 == 0:\n",
    "        #print(industry.total_revenue)\n",
    "        total += industry.total_revenue\n",
    "        count += 1\n",
    "total = total / len(industries)\n",
    "print(total)"
   ]
  },
  {
   "cell_type": "code",
   "execution_count": null,
   "metadata": {},
   "outputs": [
    {
     "name": "stdout",
     "output_type": "stream",
     "text": [
      "{'Consumer Services', 'Agriculture', 'Retail', 'Government', 'Business Services', 'Manufacturing', 'Construction'}\n",
      "There are:  7  unique industry types.\n"
     ]
    }
   ],
   "source": [
    "unique_industry_types = set([x.industry for x in industries])\n",
    "print(unique_industry_types)\n",
    "print(\"There are: \", len(unique_industry_types), \" unique industry types.\")"
   ]
  },
  {
   "cell_type": "code",
   "execution_count": null,
   "metadata": {},
   "outputs": [
    {
     "name": "stdout",
     "output_type": "stream",
     "text": [
      "['Automobile Dealers', 'Grocery Retail', 'Department Stores, Shopping Centers & Superstores', 'Apparel & Accessories Retail', 'Flowers, Gifts & Specialty Stores', 'Home Improvement & Hardware Retail', 'Vitamins, Supplements & Health Stores', 'Pet Products', 'Sporting & Recreational Equipment Retail', 'Furniture', 'Convenience Stores, Gas Stations & Liquor Stores', 'Jewelry & Watch Retail', '']\n"
     ]
    }
   ],
   "source": [
    "industry_map = {}\n",
    "for type in unique_industry_types:\n",
    "    correlated_industries = [x.subindustry for x in industries if x.industry == type]\n",
    "    industry_map[type] = correlated_industries\n",
    "\n",
    "print(industry_map[\"Retail\"])"
   ]
  },
  {
   "cell_type": "code",
   "execution_count": null,
   "metadata": {},
   "outputs": [
    {
     "data": {
      "text/plain": [
       "['Automobile Dealers']"
      ]
     },
     "execution_count": 48,
     "metadata": {},
     "output_type": "execute_result"
    }
   ],
   "source": [
    "industry_map[\"Consumer Services\"]"
   ]
  },
  {
   "cell_type": "code",
   "execution_count": null,
   "metadata": {},
   "outputs": [
    {
     "name": "stdout",
     "output_type": "stream",
     "text": [
      "{'Agriculture': 1672833.0, 'Business Services': 4464523.0, 'Construction': 1726368.0, 'Consumer Services': 1554750.0, 'Government': 728379.0, 'Manufacturing': 16342805.14, 'Retail': 17092926.23}\n"
     ]
    }
   ],
   "source": [
    "industry_revenue_map = {}\n",
    "for type in unique_industry_types:\n",
    "    industry_revenue_list = [x.total_revenue for x in industries if x.industry == type]\n",
    "    industry_revenue_map[type] = np.round(np.average(industry_revenue_list), 2)\n",
    "print(dict(sorted((industry_revenue_map.items()))))\n",
    "#dict(sorted(my_dict.items()))"
   ]
  }
 ],
 "metadata": {
  "kernelspec": {
   "display_name": "Python 3",
   "language": "python",
   "name": "python3"
  },
  "language_info": {
   "codemirror_mode": {
    "name": "ipython",
    "version": 3
   },
   "file_extension": ".py",
   "mimetype": "text/x-python",
   "name": "python",
   "nbconvert_exporter": "python",
   "pygments_lexer": "ipython3",
   "version": "3.12.0"
  }
 },
 "nbformat": 4,
 "nbformat_minor": 2
}
