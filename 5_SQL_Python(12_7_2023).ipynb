{
 "cells": [
  {
   "cell_type": "markdown",
   "metadata": {},
   "source": [
    "## List Comprehension\n",
    "    - Get all integers out of a list of numbers, e.x. [1,2.5,100.3,3.0,-1.5,-5]\n",
    "    - Find all numbers from 1-1000 that have a 3 in them.\n",
    "    - Count the number of alphabetic characters in a string (a-z, lower case or upper case)\n"
   ]
  },
  {
   "cell_type": "code",
   "execution_count": 13,
   "metadata": {},
   "outputs": [
    {
     "data": {
      "text/plain": [
       "('Integers in list: ', [1, -5])"
      ]
     },
     "execution_count": 13,
     "metadata": {},
     "output_type": "execute_result"
    }
   ],
   "source": [
    "#My 1st solution\n",
    "import numpy as np\n",
    "# Get all integers out of a list of numbers, e.x. [1,2.5,100.3,3.0,-1.5,-5]\n",
    "def get_int(lst):\n",
    "    return \"Integers in list: \", [x for x in lst if type(x) == int]\n",
    "\n",
    "get_int([1, 2.5, 100.3, 3.0, -1.5, -5])"
   ]
  },
  {
   "cell_type": "markdown",
   "metadata": {},
   "source": [
    "This above solution was wrong because it ignored 3.0.  See the below solution for a corrected method."
   ]
  },
  {
   "cell_type": "code",
   "execution_count": 14,
   "metadata": {},
   "outputs": [
    {
     "data": {
      "text/plain": [
       "('Integers in list: ', [1, 3.0, -5])"
      ]
     },
     "execution_count": 14,
     "metadata": {},
     "output_type": "execute_result"
    }
   ],
   "source": [
    "#Max's Solution\n",
    "# Get all integers out of a list of numbers, e.x. [1,2.5,100.3,3.0,-1.5,-5]\n",
    "def get_int(lst):\n",
    "    return \"Integers in list: \", [x for x in lst if round(x)==x]\n",
    "\n",
    "\n",
    "get_int([1, 2.5, 100.3, 3.0, -1.5, -5])"
   ]
  },
  {
   "cell_type": "code",
   "execution_count": 15,
   "metadata": {},
   "outputs": [
    {
     "name": "stdout",
     "output_type": "stream",
     "text": [
      "[3, 13, 23, 30, 31, 32, 33, 34, 35, 36, 37, 38, 39, 43, 53, 63, 73, 83, 93, 103, 113, 123, 130, 131, 132, 133, 134, 135, 136, 137, 138, 139, 143, 153, 163, 173, 183, 193, 203, 213, 223, 230, 231, 232, 233, 234, 235, 236, 237, 238, 239, 243, 253, 263, 273, 283, 293, 300, 301, 302, 303, 304, 305, 306, 307, 308, 309, 310, 311, 312, 313, 314, 315, 316, 317, 318, 319, 320, 321, 322, 323, 324, 325, 326, 327, 328, 329, 330, 331, 332, 333, 334, 335, 336, 337, 338, 339, 340, 341, 342, 343, 344, 345, 346, 347, 348, 349, 350, 351, 352, 353, 354, 355, 356, 357, 358, 359, 360, 361, 362, 363, 364, 365, 366, 367, 368, 369, 370, 371, 372, 373, 374, 375, 376, 377, 378, 379, 380, 381, 382, 383, 384, 385, 386, 387, 388, 389, 390, 391, 392, 393, 394, 395, 396, 397, 398, 399, 403, 413, 423, 430, 431, 432, 433, 434, 435, 436, 437, 438, 439, 443, 453, 463, 473, 483, 493, 503, 513, 523, 530, 531, 532, 533, 534, 535, 536, 537, 538, 539, 543, 553, 563, 573, 583, 593, 603, 613, 623, 630, 631, 632, 633, 634, 635, 636, 637, 638, 639, 643, 653, 663, 673, 683, 693, 703, 713, 723, 730, 731, 732, 733, 734, 735, 736, 737, 738, 739, 743, 753, 763, 773, 783, 793, 803, 813, 823, 830, 831, 832, 833, 834, 835, 836, 837, 838, 839, 843, 853, 863, 873, 883, 893, 903, 913, 923, 930, 931, 932, 933, 934, 935, 936, 937, 938, 939, 943, 953, 963, 973, 983, 993]\n"
     ]
    }
   ],
   "source": [
    "# Find all numbers from 1-1000 that have a 3 in them.\n",
    "list_2 = np.arange(1, 1001)\n",
    "print([x for x in list_2 if \"3\" in str(x)])"
   ]
  },
  {
   "cell_type": "code",
   "execution_count": 16,
   "metadata": {},
   "outputs": [
    {
     "name": "stdout",
     "output_type": "stream",
     "text": [
      "35\n"
     ]
    }
   ],
   "source": [
    "# Count the number of alphabetic characters in a string (a-z, lower case or upper case)\n",
    "#Counter & For loop method\n",
    "string = \"Supercallafragalistic0ex999piaLadocious\"\n",
    "count = 0\n",
    "for i in string:\n",
    "    if i.isalpha():\n",
    "        count += 1\n",
    "print(count)"
   ]
  },
  {
   "cell_type": "code",
   "execution_count": 17,
   "metadata": {},
   "outputs": [
    {
     "data": {
      "text/plain": [
       "('Number of characters in input string:', 36)"
      ]
     },
     "execution_count": 17,
     "metadata": {},
     "output_type": "execute_result"
    }
   ],
   "source": [
    "# List Comprehension Method:\n",
    "def string_counter(text):\n",
    "    return 'Number of characters in input string:', len([x for x in text if x.isalpha()])\n",
    "\n",
    "string_counter(\"Supercallafragalisstic0ex999piaLadocious\")"
   ]
  },
  {
   "cell_type": "code",
   "execution_count": 18,
   "metadata": {},
   "outputs": [
    {
     "name": "stdout",
     "output_type": "stream",
     "text": [
      "[1, 11, 13, 17, 19, 23, 29, 31, 37, 41, 43, 47, 53, 59, 61, 67, 71, 73, 79, 83, 89, 97, 101, 103, 107, 109, 113, 121, 127, 131, 137, 139, 143, 149, 151, 157, 163, 167, 169, 173, 179, 181, 187, 191, 193, 197, 199, 209, 211, 221, 223, 227, 229, 233, 239, 241, 247, 251, 253, 257, 263, 269, 271, 277, 281, 283, 289, 293, 299, 307, 311, 313, 317, 319, 323, 331, 337, 341, 347, 349, 353, 359, 361, 367, 373, 377, 379, 383, 389, 391, 397, 401, 403, 407, 409, 419, 421, 431, 433, 437, 439, 443, 449, 451, 457, 461, 463, 467, 473, 479, 481, 487, 491, 493, 499, 503, 509, 517, 521, 523, 527, 529, 533, 541, 547, 551, 557, 559, 563, 569, 571, 577, 583, 587, 589, 593, 599, 601, 607, 611, 613, 617, 619, 629, 631, 641, 643, 647, 649, 653, 659, 661, 667, 671, 673, 677, 683, 689, 691, 697, 701, 703, 709, 713, 719, 727, 731, 733, 737, 739, 743, 751, 757, 761, 767, 769, 773, 779, 781, 787, 793, 797, 799, 803, 809, 811, 817, 821, 823, 827, 829, 839, 841, 851, 853, 857, 859, 863, 869, 871, 877, 881, 883, 887, 893, 899, 901, 907, 911, 913, 919, 923, 929, 937, 941, 943, 947, 949, 953, 961, 967, 971, 977, 979, 983, 989, 991, 997]\n"
     ]
    }
   ],
   "source": [
    "not_div = []\n",
    "for x in range(1,1001):\n",
    "    for n in range(2, 10):\n",
    "        nope = True\n",
    "        if x % n == 0:\n",
    "            nope = False\n",
    "            break\n",
    "    if nope:\n",
    "        not_div.append(x)\n",
    "print(not_div)"
   ]
  },
  {
   "cell_type": "code",
   "execution_count": 19,
   "metadata": {},
   "outputs": [
    {
     "data": {
      "text/plain": [
       "[1,\n",
       " 11,\n",
       " 13,\n",
       " 17,\n",
       " 19,\n",
       " 23,\n",
       " 29,\n",
       " 31,\n",
       " 37,\n",
       " 41,\n",
       " 43,\n",
       " 47,\n",
       " 53,\n",
       " 59,\n",
       " 61,\n",
       " 67,\n",
       " 71,\n",
       " 73,\n",
       " 79,\n",
       " 83,\n",
       " 89,\n",
       " 97,\n",
       " 101,\n",
       " 103,\n",
       " 107,\n",
       " 109,\n",
       " 113,\n",
       " 121,\n",
       " 127,\n",
       " 131,\n",
       " 137,\n",
       " 139,\n",
       " 143,\n",
       " 149,\n",
       " 151,\n",
       " 157,\n",
       " 163,\n",
       " 167,\n",
       " 169,\n",
       " 173,\n",
       " 179,\n",
       " 181,\n",
       " 187,\n",
       " 191,\n",
       " 193,\n",
       " 197,\n",
       " 199,\n",
       " 209,\n",
       " 211,\n",
       " 221,\n",
       " 223,\n",
       " 227,\n",
       " 229,\n",
       " 233,\n",
       " 239,\n",
       " 241,\n",
       " 247,\n",
       " 251,\n",
       " 253,\n",
       " 257,\n",
       " 263,\n",
       " 269,\n",
       " 271,\n",
       " 277,\n",
       " 281,\n",
       " 283,\n",
       " 289,\n",
       " 293,\n",
       " 299,\n",
       " 307,\n",
       " 311,\n",
       " 313,\n",
       " 317,\n",
       " 319,\n",
       " 323,\n",
       " 331,\n",
       " 337,\n",
       " 341,\n",
       " 347,\n",
       " 349,\n",
       " 353,\n",
       " 359,\n",
       " 361,\n",
       " 367,\n",
       " 373,\n",
       " 377,\n",
       " 379,\n",
       " 383,\n",
       " 389,\n",
       " 391,\n",
       " 397,\n",
       " 401,\n",
       " 403,\n",
       " 407,\n",
       " 409,\n",
       " 419,\n",
       " 421,\n",
       " 431,\n",
       " 433,\n",
       " 437,\n",
       " 439,\n",
       " 443,\n",
       " 449,\n",
       " 451,\n",
       " 457,\n",
       " 461,\n",
       " 463,\n",
       " 467,\n",
       " 473,\n",
       " 479,\n",
       " 481,\n",
       " 487,\n",
       " 491,\n",
       " 493,\n",
       " 499,\n",
       " 503,\n",
       " 509,\n",
       " 517,\n",
       " 521,\n",
       " 523,\n",
       " 527,\n",
       " 529,\n",
       " 533,\n",
       " 541,\n",
       " 547,\n",
       " 551,\n",
       " 557,\n",
       " 559,\n",
       " 563,\n",
       " 569,\n",
       " 571,\n",
       " 577,\n",
       " 583,\n",
       " 587,\n",
       " 589,\n",
       " 593,\n",
       " 599,\n",
       " 601,\n",
       " 607,\n",
       " 611,\n",
       " 613,\n",
       " 617,\n",
       " 619,\n",
       " 629,\n",
       " 631,\n",
       " 641,\n",
       " 643,\n",
       " 647,\n",
       " 649,\n",
       " 653,\n",
       " 659,\n",
       " 661,\n",
       " 667,\n",
       " 671,\n",
       " 673,\n",
       " 677,\n",
       " 683,\n",
       " 689,\n",
       " 691,\n",
       " 697,\n",
       " 701,\n",
       " 703,\n",
       " 709,\n",
       " 713,\n",
       " 719,\n",
       " 727,\n",
       " 731,\n",
       " 733,\n",
       " 737,\n",
       " 739,\n",
       " 743,\n",
       " 751,\n",
       " 757,\n",
       " 761,\n",
       " 767,\n",
       " 769,\n",
       " 773,\n",
       " 779,\n",
       " 781,\n",
       " 787,\n",
       " 793,\n",
       " 797,\n",
       " 799,\n",
       " 803,\n",
       " 809,\n",
       " 811,\n",
       " 817,\n",
       " 821,\n",
       " 823,\n",
       " 827,\n",
       " 829,\n",
       " 839,\n",
       " 841,\n",
       " 851,\n",
       " 853,\n",
       " 857,\n",
       " 859,\n",
       " 863,\n",
       " 869,\n",
       " 871,\n",
       " 877,\n",
       " 881,\n",
       " 883,\n",
       " 887,\n",
       " 893,\n",
       " 899,\n",
       " 901,\n",
       " 907,\n",
       " 911,\n",
       " 913,\n",
       " 919,\n",
       " 923,\n",
       " 929,\n",
       " 937,\n",
       " 941,\n",
       " 943,\n",
       " 947,\n",
       " 949,\n",
       " 953,\n",
       " 961,\n",
       " 967,\n",
       " 971,\n",
       " 977,\n",
       " 979,\n",
       " 983,\n",
       " 989,\n",
       " 991,\n",
       " 997]"
      ]
     },
     "execution_count": 19,
     "metadata": {},
     "output_type": "execute_result"
    }
   ],
   "source": [
    "lst = []\n",
    "[lst.append(x) for x in range(1,1001) for n in range(2, 10) if x % n == 0 and x not in lst]\n",
    "newlist = list(range(1,1001))\n",
    "for i in lst:\n",
    "    newlist.remove(i)\n",
    "newlist"
   ]
  },
  {
   "cell_type": "code",
   "execution_count": 20,
   "metadata": {},
   "outputs": [
    {
     "data": {
      "text/plain": [
       "[1,\n",
       " 11,\n",
       " 13,\n",
       " 17,\n",
       " 19,\n",
       " 23,\n",
       " 29,\n",
       " 31,\n",
       " 37,\n",
       " 41,\n",
       " 43,\n",
       " 47,\n",
       " 53,\n",
       " 59,\n",
       " 61,\n",
       " 67,\n",
       " 71,\n",
       " 73,\n",
       " 79,\n",
       " 83,\n",
       " 89,\n",
       " 97,\n",
       " 101,\n",
       " 103,\n",
       " 107,\n",
       " 109,\n",
       " 113,\n",
       " 121,\n",
       " 127,\n",
       " 131,\n",
       " 137,\n",
       " 139,\n",
       " 143,\n",
       " 149,\n",
       " 151,\n",
       " 157,\n",
       " 163,\n",
       " 167,\n",
       " 169,\n",
       " 173,\n",
       " 179,\n",
       " 181,\n",
       " 187,\n",
       " 191,\n",
       " 193,\n",
       " 197,\n",
       " 199,\n",
       " 209,\n",
       " 211,\n",
       " 221,\n",
       " 223,\n",
       " 227,\n",
       " 229,\n",
       " 233,\n",
       " 239,\n",
       " 241,\n",
       " 247,\n",
       " 251,\n",
       " 253,\n",
       " 257,\n",
       " 263,\n",
       " 269,\n",
       " 271,\n",
       " 277,\n",
       " 281,\n",
       " 283,\n",
       " 289,\n",
       " 293,\n",
       " 299,\n",
       " 307,\n",
       " 311,\n",
       " 313,\n",
       " 317,\n",
       " 319,\n",
       " 323,\n",
       " 331,\n",
       " 337,\n",
       " 341,\n",
       " 347,\n",
       " 349,\n",
       " 353,\n",
       " 359,\n",
       " 361,\n",
       " 367,\n",
       " 373,\n",
       " 377,\n",
       " 379,\n",
       " 383,\n",
       " 389,\n",
       " 391,\n",
       " 397,\n",
       " 401,\n",
       " 403,\n",
       " 407,\n",
       " 409,\n",
       " 419,\n",
       " 421,\n",
       " 431,\n",
       " 433,\n",
       " 437,\n",
       " 439,\n",
       " 443,\n",
       " 449,\n",
       " 451,\n",
       " 457,\n",
       " 461,\n",
       " 463,\n",
       " 467,\n",
       " 473,\n",
       " 479,\n",
       " 481,\n",
       " 487,\n",
       " 491,\n",
       " 493,\n",
       " 499,\n",
       " 503,\n",
       " 509,\n",
       " 517,\n",
       " 521,\n",
       " 523,\n",
       " 527,\n",
       " 529,\n",
       " 533,\n",
       " 541,\n",
       " 547,\n",
       " 551,\n",
       " 557,\n",
       " 559,\n",
       " 563,\n",
       " 569,\n",
       " 571,\n",
       " 577,\n",
       " 583,\n",
       " 587,\n",
       " 589,\n",
       " 593,\n",
       " 599,\n",
       " 601,\n",
       " 607,\n",
       " 611,\n",
       " 613,\n",
       " 617,\n",
       " 619,\n",
       " 629,\n",
       " 631,\n",
       " 641,\n",
       " 643,\n",
       " 647,\n",
       " 649,\n",
       " 653,\n",
       " 659,\n",
       " 661,\n",
       " 667,\n",
       " 671,\n",
       " 673,\n",
       " 677,\n",
       " 683,\n",
       " 689,\n",
       " 691,\n",
       " 697,\n",
       " 701,\n",
       " 703,\n",
       " 709,\n",
       " 713,\n",
       " 719,\n",
       " 727,\n",
       " 731,\n",
       " 733,\n",
       " 737,\n",
       " 739,\n",
       " 743,\n",
       " 751,\n",
       " 757,\n",
       " 761,\n",
       " 767,\n",
       " 769,\n",
       " 773,\n",
       " 779,\n",
       " 781,\n",
       " 787,\n",
       " 793,\n",
       " 797,\n",
       " 799,\n",
       " 803,\n",
       " 809,\n",
       " 811,\n",
       " 817,\n",
       " 821,\n",
       " 823,\n",
       " 827,\n",
       " 829,\n",
       " 839,\n",
       " 841,\n",
       " 851,\n",
       " 853,\n",
       " 857,\n",
       " 859,\n",
       " 863,\n",
       " 869,\n",
       " 871,\n",
       " 877,\n",
       " 881,\n",
       " 883,\n",
       " 887,\n",
       " 893,\n",
       " 899,\n",
       " 901,\n",
       " 907,\n",
       " 911,\n",
       " 913,\n",
       " 919,\n",
       " 923,\n",
       " 929,\n",
       " 937,\n",
       " 941,\n",
       " 943,\n",
       " 947,\n",
       " 949,\n",
       " 953,\n",
       " 961,\n",
       " 967,\n",
       " 971,\n",
       " 977,\n",
       " 979,\n",
       " 983,\n",
       " 989,\n",
       " 991,\n",
       " 997]"
      ]
     },
     "execution_count": 20,
     "metadata": {},
     "output_type": "execute_result"
    }
   ],
   "source": [
    "lst = []\n",
    "[lst.append(x) for x in range(1, 1001) for n in range(2, 10) if x % n == 0 and x not in lst]\n",
    "newlist = list(range(1, 1001))\n",
    "for i in lst:\n",
    "    newlist.remove(i)\n",
    "newlist\n"
   ]
  },
  {
   "cell_type": "code",
   "execution_count": 21,
   "metadata": {},
   "outputs": [
    {
     "name": "stdout",
     "output_type": "stream",
     "text": [
      "[1, 11, 13, 17, 19, 23, 29, 31, 37, 41, 43, 47, 53, 59, 61, 67, 71, 73, 79, 83, 89, 97, 101, 103, 107, 109, 113, 121, 127, 131, 137, 139, 143, 149, 151, 157, 163, 167, 169, 173, 179, 181, 187, 191, 193, 197, 199, 209, 211, 221, 223, 227, 229, 233, 239, 241, 247, 251, 253, 257, 263, 269, 271, 277, 281, 283, 289, 293, 299, 307, 311, 313, 317, 319, 323, 331, 337, 341, 347, 349, 353, 359, 361, 367, 373, 377, 379, 383, 389, 391, 397, 401, 403, 407, 409, 419, 421, 431, 433, 437, 439, 443, 449, 451, 457, 461, 463, 467, 473, 479, 481, 487, 491, 493, 499, 503, 509, 517, 521, 523, 527, 529, 533, 541, 547, 551, 557, 559, 563, 569, 571, 577, 583, 587, 589, 593, 599, 601, 607, 611, 613, 617, 619, 629, 631, 641, 643, 647, 649, 653, 659, 661, 667, 671, 673, 677, 683, 689, 691, 697, 701, 703, 709, 713, 719, 727, 731, 733, 737, 739, 743, 751, 757, 761, 767, 769, 773, 779, 781, 787, 793, 797, 799, 803, 809, 811, 817, 821, 823, 827, 829, 839, 841, 851, 853, 857, 859, 863, 869, 871, 877, 881, 883, 887, 893, 899, 901, 907, 911, 913, 919, 923, 929, 937, 941, 943, 947, 949, 953, 961, 967, 971, 977, 979, 983, 989, 991, 997]\n"
     ]
    }
   ],
   "source": [
    "#Using list comprehension with all() function\n",
    "print([x for x in range (1,1001) if all(x % i !=0 for i in range(2,10))])"
   ]
  },
  {
   "cell_type": "code",
   "execution_count": 22,
   "metadata": {},
   "outputs": [
    {
     "name": "stdout",
     "output_type": "stream",
     "text": [
      "[1, 11, 13, 17, 19, 23, 29, 31, 37, 41, 43, 47, 53, 59, 61, 67, 71, 73, 79, 83, 89, 97, 101, 103, 107, 109, 113, 121, 127, 131, 137, 139, 143, 149, 151, 157, 163, 167, 169, 173, 179, 181, 187, 191, 193, 197, 199, 209, 211, 221, 223, 227, 229, 233, 239, 241, 247, 251, 253, 257, 263, 269, 271, 277, 281, 283, 289, 293, 299, 307, 311, 313, 317, 319, 323, 331, 337, 341, 347, 349, 353, 359, 361, 367, 373, 377, 379, 383, 389, 391, 397, 401, 403, 407, 409, 419, 421, 431, 433, 437, 439, 443, 449, 451, 457, 461, 463, 467, 473, 479, 481, 487, 491, 493, 499, 503, 509, 517, 521, 523, 527, 529, 533, 541, 547, 551, 557, 559, 563, 569, 571, 577, 583, 587, 589, 593, 599, 601, 607, 611, 613, 617, 619, 629, 631, 641, 643, 647, 649, 653, 659, 661, 667, 671, 673, 677, 683, 689, 691, 697, 701, 703, 709, 713, 719, 727, 731, 733, 737, 739, 743, 751, 757, 761, 767, 769, 773, 779, 781, 787, 793, 797, 799, 803, 809, 811, 817, 821, 823, 827, 829, 839, 841, 851, 853, 857, 859, 863, 869, 871, 877, 881, 883, 887, 893, 899, 901, 907, 911, 913, 919, 923, 929, 937, 941, 943, 947, 949, 953, 961, 967, 971, 977, 979, 983, 989, 991, 997]\n",
      "[1, 11, 13, 17, 19, 23, 29, 31, 37, 41, 43, 47, 53, 59, 61, 67, 71, 73, 79, 83, 89, 97, 101, 103, 107, 109, 113, 121, 127, 131, 137, 139, 143, 149, 151, 157, 163, 167, 169, 173, 179, 181, 187, 191, 193, 197, 199, 209, 211, 221, 223, 227, 229, 233, 239, 241, 247, 251, 253, 257, 263, 269, 271, 277, 281, 283, 289, 293, 299, 307, 311, 313, 317, 319, 323, 331, 337, 341, 347, 349, 353, 359, 361, 367, 373, 377, 379, 383, 389, 391, 397, 401, 403, 407, 409, 419, 421, 431, 433, 437, 439, 443, 449, 451, 457, 461, 463, 467, 473, 479, 481, 487, 491, 493, 499, 503, 509, 517, 521, 523, 527, 529, 533, 541, 547, 551, 557, 559, 563, 569, 571, 577, 583, 587, 589, 593, 599, 601, 607, 611, 613, 617, 619, 629, 631, 641, 643, 647, 649, 653, 659, 661, 667, 671, 673, 677, 683, 689, 691, 697, 701, 703, 709, 713, 719, 727, 731, 733, 737, 739, 743, 751, 757, 761, 767, 769, 773, 779, 781, 787, 793, 797, 799, 803, 809, 811, 817, 821, 823, 827, 829, 839, 841, 851, 853, 857, 859, 863, 869, 871, 877, 881, 883, 887, 893, 899, 901, 907, 911, 913, 919, 923, 929, 937, 941, 943, 947, 949, 953, 961, 967, 971, 977, 979, 983, 989, 991, 997]\n"
     ]
    }
   ],
   "source": [
    "#Using nested list comprehensions\n",
    "print([x for x in range(1,1001) if not True in [True for y in range(2,10) if x % y==0]])\n",
    "print([x for x in range(1,1001) if len([y for y in range(2,10) if x % y == 0]) == 0])"
   ]
  },
  {
   "cell_type": "code",
   "execution_count": 23,
   "metadata": {},
   "outputs": [
    {
     "name": "stdout",
     "output_type": "stream",
     "text": [
      "[1, 11, 13, 17, 19, 23, 29, 31, 37, 41, 43, 47, 53, 59, 61, 67, 71, 73, 79, 83, 89, 97, 101, 103, 107, 109, 113, 121, 127, 131, 137, 139, 143, 149, 151, 157, 163, 167, 169, 173, 179, 181, 187, 191, 193, 197, 199, 209, 211, 221, 223, 227, 229, 233, 239, 241, 247, 251, 253, 257, 263, 269, 271, 277, 281, 283, 289, 293, 299, 307, 311, 313, 317, 319, 323, 331, 337, 341, 347, 349, 353, 359, 361, 367, 373, 377, 379, 383, 389, 391, 397, 401, 403, 407, 409, 419, 421, 431, 433, 437, 439, 443, 449, 451, 457, 461, 463, 467, 473, 479, 481, 487, 491, 493, 499, 503, 509, 517, 521, 523, 527, 529, 533, 541, 547, 551, 557, 559, 563, 569, 571, 577, 583, 587, 589, 593, 599, 601, 607, 611, 613, 617, 619, 629, 631, 641, 643, 647, 649, 653, 659, 661, 667, 671, 673, 677, 683, 689, 691, 697, 701, 703, 709, 713, 719, 727, 731, 733, 737, 739, 743, 751, 757, 761, 767, 769, 773, 779, 781, 787, 793, 797, 799, 803, 809, 811, 817, 821, 823, 827, 829, 839, 841, 851, 853, 857, 859, 863, 869, 871, 877, 881, 883, 887, 893, 899, 901, 907, 911, 913, 919, 923, 929, 937, 941, 943, 947, 949, 953, 961, 967, 971, 977, 979, 983, 989, 991, 997]\n"
     ]
    }
   ],
   "source": [
    "# [Challenge - requires nesting] - Find all numbers between 1-1000 that are not divisible by any number between 2 and 9.\n",
    "nums = np.arange(1,1001)\n",
    "lst = []\n",
    "for x in nums:\n",
    "    for n in range(2,10):\n",
    "        if x % n == 0:\n",
    "            lst.append(x)\n",
    "not_nums = np.unique(lst)\n",
    "print([x for x in nums if x not in not_nums])"
   ]
  },
  {
   "cell_type": "markdown",
   "metadata": {},
   "source": []
  },
  {
   "cell_type": "markdown",
   "metadata": {},
   "source": [
    "## SQL/Big Query (Using the noaa historic severe storms dataset).\n",
    "    - Find out what state has had the most historic severe storms between 1980 and 1995\n",
    "    - Find the average crop damage for storms in 2011\n",
    "    - What was the total number of direct and indirect deaths for storms in 2000? What about the total number of direct or indirect injuries"
   ]
  },
  {
   "cell_type": "markdown",
   "metadata": {},
   "source": [
    "There has to be a better way :("
   ]
  },
  {
   "cell_type": "markdown",
   "metadata": {},
   "source": [
    "SELECT state, count(*)\n",
    "FROM (\n",
    "  (SELECT state, COUNT(*) as NumStorms\n",
    "  FROM `bigquery-public-data.noaa_historic_severe_storms.storms_1995` \n",
    "  GROUP BY state\n",
    "  ORDER BY NumStorms DESC\n",
    "  LIMIT 1)\n",
    "  UNION ALL\n",
    "  (SELECT state, COUNT(*) as NumStorms\n",
    "  FROM `bigquery-public-data.noaa_historic_severe_storms.storms_1994` \n",
    "  GROUP BY state\n",
    "  ORDER BY NumStorms DESC\n",
    "  LIMIT 1)\n",
    "  UNION ALL\n",
    "  (SELECT state, COUNT(*) as NumStorms\n",
    "  FROM `bigquery-public-data.noaa_historic_severe_storms.storms_1993` \n",
    "  GROUP BY state\n",
    "  ORDER BY NumStorms DESC\n",
    "  LIMIT 1)\n",
    "  UNION ALL\n",
    "  (SELECT state, COUNT(*) as NumStorms\n",
    "  FROM `bigquery-public-data.noaa_historic_severe_storms.storms_1992` \n",
    "  GROUP BY state\n",
    "  ORDER BY NumStorms DESC\n",
    "  LIMIT 1)\n",
    "  UNION ALL\n",
    "  (SELECT state, COUNT(*) as NumStorms\n",
    "  FROM `bigquery-public-data.noaa_historic_severe_storms.storms_1991` \n",
    "  GROUP BY state\n",
    "  ORDER BY NumStorms DESC\n",
    "  LIMIT 1)\n",
    "  UNION ALL\n",
    "  (SELECT state, COUNT(*) as NumStorms\n",
    "  FROM `bigquery-public-data.noaa_historic_severe_storms.storms_1990` \n",
    "  GROUP BY state\n",
    "  ORDER BY NumStorms DESC\n",
    "  LIMIT 1)\n",
    "  UNION ALL\n",
    "  (SELECT state, COUNT(*) as NumStorms\n",
    "  FROM `bigquery-public-data.noaa_historic_severe_storms.storms_1989` \n",
    "  GROUP BY state\n",
    "  ORDER BY NumStorms DESC\n",
    "  LIMIT 1)\n",
    "  UNION ALL\n",
    "  (SELECT state, COUNT(*) as NumStorms\n",
    "  FROM `bigquery-public-data.noaa_historic_severe_storms.storms_1988` \n",
    "  GROUP BY state\n",
    "  ORDER BY NumStorms DESC\n",
    "  LIMIT 1)\n",
    "  UNION ALL\n",
    "  (SELECT state, COUNT(*) as NumStorms\n",
    "  FROM `bigquery-public-data.noaa_historic_severe_storms.storms_1987` \n",
    "  GROUP BY state\n",
    "  ORDER BY NumStorms DESC\n",
    "  LIMIT 1)\n",
    "  UNION ALL\n",
    "  (SELECT state, COUNT(*) as NumStorms\n",
    "  FROM `bigquery-public-data.noaa_historic_severe_storms.storms_1986` \n",
    "  GROUP BY state\n",
    "  ORDER BY NumStorms DESC\n",
    "  LIMIT 1)\n",
    "  UNION ALL\n",
    "  (SELECT state, COUNT(*) as NumStorms\n",
    "  FROM `bigquery-public-data.noaa_historic_severe_storms.storms_1985` \n",
    "  GROUP BY state\n",
    "  ORDER BY NumStorms DESC\n",
    "  LIMIT 1)\n",
    "  UNION ALL\n",
    "  (SELECT state, COUNT(*) as NumStorms\n",
    "  FROM `bigquery-public-data.noaa_historic_severe_storms.storms_1984` \n",
    "  GROUP BY state\n",
    "  ORDER BY NumStorms DESC\n",
    "  LIMIT 1)\n",
    "  UNION ALL\n",
    "  (SELECT state, COUNT(*) as NumStorms\n",
    "  FROM `bigquery-public-data.noaa_historic_severe_storms.storms_1983` \n",
    "  GROUP BY state\n",
    "  ORDER BY NumStorms DESC\n",
    "  LIMIT 1)\n",
    "  UNION ALL\n",
    "  (SELECT state, COUNT(*) as NumStorms\n",
    "  FROM `bigquery-public-data.noaa_historic_severe_storms.storms_1982` \n",
    "  GROUP BY state\n",
    "  ORDER BY NumStorms DESC\n",
    "  LIMIT 1)\n",
    "  UNION ALL\n",
    "  (SELECT state, COUNT(*) as NumStorms\n",
    "  FROM `bigquery-public-data.noaa_historic_severe_storms.storms_1981` \n",
    "  GROUP BY state\n",
    "  ORDER BY NumStorms DESC\n",
    "  LIMIT 1)\n",
    "  UNION ALL\n",
    "  (SELECT state, COUNT(*) as NumStorms\n",
    "  FROM `bigquery-public-data.noaa_historic_severe_storms.storms_1980` \n",
    "  GROUP BY state\n",
    "  ORDER BY NumStorms DESC\n",
    "  LIMIT 1)\n",
    "  )\n",
    "  GROUP BY state;\n"
   ]
  },
  {
   "cell_type": "code",
   "execution_count": 24,
   "metadata": {},
   "outputs": [
    {
     "name": "stdout",
     "output_type": "stream",
     "text": [
      "Long and sloppy code, but answer is:  Tennessee\n"
     ]
    }
   ],
   "source": [
    "#Find out what state has had the most historic severe storms between 1980 and 1995\n",
    "Answer = 'Tennessee'\n",
    "print(\"Long and sloppy code, but answer is: \",Answer)"
   ]
  },
  {
   "cell_type": "code",
   "execution_count": 25,
   "metadata": {},
   "outputs": [],
   "source": [
    "# SELECT AVG(damage_crops) \n",
    "# FROM `bigquery-public-data.noaa_historic_severe_storms.storms_2011` \n",
    "# LIMIT 10"
   ]
  },
  {
   "cell_type": "code",
   "execution_count": 26,
   "metadata": {},
   "outputs": [
    {
     "name": "stdout",
     "output_type": "stream",
     "text": [
      "Average Property damage in 2011:  $ 40133.49568552241\n"
     ]
    }
   ],
   "source": [
    "# Find the average crop damage for storms in 2011\n",
    "Answer2 = 40133.495685522408\n",
    "print(\"Average Property damage in 2011: \", \"$\", Answer2)\n"
   ]
  },
  {
   "cell_type": "code",
   "execution_count": 27,
   "metadata": {},
   "outputs": [],
   "source": [
    "# SELECT SUM(injuries_direct) as total_dir_inj, SUM(injuries_indirect) as total_indir_inj,SUM(deaths_direct) as total_dir_deaths, SUM(deaths_indirect) as total_indir_deaths\n",
    "# FROM `bigquery-public-data.noaa_historic_severe_storms.storms_2000` \n",
    "# LIMIT 2"
   ]
  },
  {
   "cell_type": "code",
   "execution_count": 28,
   "metadata": {},
   "outputs": [
    {
     "name": "stdout",
     "output_type": "stream",
     "text": [
      "Total Deaths:  521\n",
      "Direct Injuries:  3658\n",
      "indirect_injuries:  0\n"
     ]
    }
   ],
   "source": [
    "#What was the total number of direct and indirect deaths for storms in 2000? What about the total number of direct or indirect injuries\n",
    "direct_deaths = 521\n",
    "indirect_deaths = 0\n",
    "direct_injuries = 3658\n",
    "indirect_injuries = 0\n",
    "print(\"Total Deaths: \", direct_deaths + indirect_deaths)\n",
    "print(\"Direct Injuries: \", direct_injuries)\n",
    "print(\"indirect_injuries: \", indirect_injuries)"
   ]
  },
  {
   "cell_type": "markdown",
   "metadata": {},
   "source": [
    "## Big Query / Python\n",
    "Using the same dataset as above, download a CSV to parse in python of the 1000 worst storms in 2022 by magnitude when the magnitude type is \"MG\" or \"EG\" and the magnitude was at least 80\n",
    "    \n",
    "    - What percent of event types were thunderstorms vs high winds?\n",
    "    - What state had the least number of these types of storms?  What state had the most?\n",
    "    - What was the mean, median, and standard deviation of the magnitude?"
   ]
  },
  {
   "cell_type": "code",
   "execution_count": 29,
   "metadata": {},
   "outputs": [],
   "source": [
    "import csv"
   ]
  },
  {
   "cell_type": "code",
   "execution_count": 30,
   "metadata": {},
   "outputs": [],
   "source": [
    "class WeatherModel:\n",
    "    def __init__(self,state,magnitude,mag_type,event_type):\n",
    "        self.state = state\n",
    "        self.magnitude = magnitude\n",
    "        self.mag_type = mag_type\n",
    "        self.event_type = event_type\n",
    "\n",
    "    def __str__(self):\n",
    "        return (\n",
    "            self.state + \" : \" + str(self.magnitude) + \" : \" + self.mag_type + \" : \" + self.event_type\n",
    "        )"
   ]
  },
  {
   "cell_type": "code",
   "execution_count": 31,
   "metadata": {},
   "outputs": [
    {
     "name": "stdout",
     "output_type": "stream",
     "text": [
      "[<__main__.WeatherModel object at 0x111238d40>, <__main__.WeatherModel object at 0x1112a24e0>, <__main__.WeatherModel object at 0x1112a3f50>, <__main__.WeatherModel object at 0x1112f0830>, <__main__.WeatherModel object at 0x1112f0320>, <__main__.WeatherModel object at 0x1112f01d0>, <__main__.WeatherModel object at 0x1112f0290>, <__main__.WeatherModel object at 0x1112f0170>, <__main__.WeatherModel object at 0x1112f0200>, <__main__.WeatherModel object at 0x1112f0440>, <__main__.WeatherModel object at 0x1112f04d0>, <__main__.WeatherModel object at 0x1112f0530>, <__main__.WeatherModel object at 0x1112f0560>, <__main__.WeatherModel object at 0x1112f0650>, <__main__.WeatherModel object at 0x1112f0740>, <__main__.WeatherModel object at 0x1112f0800>, <__main__.WeatherModel object at 0x1112f0a10>, <__main__.WeatherModel object at 0x1112f0aa0>, <__main__.WeatherModel object at 0x1112f0b30>, <__main__.WeatherModel object at 0x1112f0bc0>, <__main__.WeatherModel object at 0x1112f0c50>, <__main__.WeatherModel object at 0x1112f0ce0>, <__main__.WeatherModel object at 0x1112f0d70>, <__main__.WeatherModel object at 0x1112f0e00>, <__main__.WeatherModel object at 0x1112f0e90>, <__main__.WeatherModel object at 0x1112f0f20>, <__main__.WeatherModel object at 0x1112f0fe0>, <__main__.WeatherModel object at 0x1112f10a0>, <__main__.WeatherModel object at 0x1112f1160>, <__main__.WeatherModel object at 0x1112f1220>, <__main__.WeatherModel object at 0x1112f12e0>, <__main__.WeatherModel object at 0x1112f13a0>, <__main__.WeatherModel object at 0x1112f1460>, <__main__.WeatherModel object at 0x1112f1520>, <__main__.WeatherModel object at 0x1112f15e0>, <__main__.WeatherModel object at 0x1112f16a0>, <__main__.WeatherModel object at 0x1112f1760>, <__main__.WeatherModel object at 0x1112f1820>, <__main__.WeatherModel object at 0x1112f18e0>, <__main__.WeatherModel object at 0x1112f19a0>, <__main__.WeatherModel object at 0x1112f1a60>, <__main__.WeatherModel object at 0x1112f1b20>, <__main__.WeatherModel object at 0x1112f1be0>, <__main__.WeatherModel object at 0x1112f1ca0>, <__main__.WeatherModel object at 0x1112f1d60>, <__main__.WeatherModel object at 0x1112f1e20>, <__main__.WeatherModel object at 0x1112f1ee0>, <__main__.WeatherModel object at 0x1112f1fa0>, <__main__.WeatherModel object at 0x1112f2060>, <__main__.WeatherModel object at 0x1112f2120>, <__main__.WeatherModel object at 0x1112f21e0>, <__main__.WeatherModel object at 0x1112f22a0>, <__main__.WeatherModel object at 0x1112f2360>, <__main__.WeatherModel object at 0x1112f2420>, <__main__.WeatherModel object at 0x1112f24e0>, <__main__.WeatherModel object at 0x1112f25a0>, <__main__.WeatherModel object at 0x1112f2660>, <__main__.WeatherModel object at 0x1112f2720>, <__main__.WeatherModel object at 0x1112f27e0>, <__main__.WeatherModel object at 0x1112f28a0>, <__main__.WeatherModel object at 0x1112f2960>, <__main__.WeatherModel object at 0x1112f2a20>, <__main__.WeatherModel object at 0x1112f2ae0>, <__main__.WeatherModel object at 0x1112f2ba0>, <__main__.WeatherModel object at 0x1112f2c60>, <__main__.WeatherModel object at 0x1112f2d20>, <__main__.WeatherModel object at 0x1112f2de0>, <__main__.WeatherModel object at 0x1112f2ea0>, <__main__.WeatherModel object at 0x1112f2f60>, <__main__.WeatherModel object at 0x1112f3020>, <__main__.WeatherModel object at 0x1112f30e0>, <__main__.WeatherModel object at 0x1112f31a0>, <__main__.WeatherModel object at 0x1112f3260>, <__main__.WeatherModel object at 0x1112f3320>, <__main__.WeatherModel object at 0x1112f33e0>, <__main__.WeatherModel object at 0x1112f34a0>, <__main__.WeatherModel object at 0x1112f3560>, <__main__.WeatherModel object at 0x1112f3620>, <__main__.WeatherModel object at 0x1112f36e0>, <__main__.WeatherModel object at 0x1112f37a0>, <__main__.WeatherModel object at 0x1112f3860>, <__main__.WeatherModel object at 0x1112f3920>, <__main__.WeatherModel object at 0x1112f39e0>, <__main__.WeatherModel object at 0x1112f3aa0>, <__main__.WeatherModel object at 0x1112f3b60>, <__main__.WeatherModel object at 0x1112f3c20>, <__main__.WeatherModel object at 0x1112f3ce0>, <__main__.WeatherModel object at 0x1112f3da0>, <__main__.WeatherModel object at 0x1112f3e60>, <__main__.WeatherModel object at 0x1112f3f20>, <__main__.WeatherModel object at 0x1112f3fe0>, <__main__.WeatherModel object at 0x1112f40e0>, <__main__.WeatherModel object at 0x1112f41a0>, <__main__.WeatherModel object at 0x1112f4260>, <__main__.WeatherModel object at 0x1112f4320>, <__main__.WeatherModel object at 0x1112f43e0>, <__main__.WeatherModel object at 0x1112f44a0>, <__main__.WeatherModel object at 0x1112f4560>, <__main__.WeatherModel object at 0x1112f4620>, <__main__.WeatherModel object at 0x1112f46e0>, <__main__.WeatherModel object at 0x1112f47a0>, <__main__.WeatherModel object at 0x1112f4860>, <__main__.WeatherModel object at 0x1112f4920>, <__main__.WeatherModel object at 0x1112f49e0>, <__main__.WeatherModel object at 0x1112f4aa0>, <__main__.WeatherModel object at 0x1112f4b60>, <__main__.WeatherModel object at 0x1112f4c20>, <__main__.WeatherModel object at 0x1112f4ce0>, <__main__.WeatherModel object at 0x1112f4da0>, <__main__.WeatherModel object at 0x1112f4e60>, <__main__.WeatherModel object at 0x1112f4f20>, <__main__.WeatherModel object at 0x1112f4fe0>, <__main__.WeatherModel object at 0x1112f50a0>, <__main__.WeatherModel object at 0x1112f5160>, <__main__.WeatherModel object at 0x1112f5220>, <__main__.WeatherModel object at 0x1112f52e0>, <__main__.WeatherModel object at 0x1112f53a0>, <__main__.WeatherModel object at 0x1112f5460>, <__main__.WeatherModel object at 0x1112f5520>, <__main__.WeatherModel object at 0x1112f55e0>, <__main__.WeatherModel object at 0x1112f56a0>, <__main__.WeatherModel object at 0x1112f5760>, <__main__.WeatherModel object at 0x1112f5820>, <__main__.WeatherModel object at 0x1112f58e0>, <__main__.WeatherModel object at 0x1112f59a0>, <__main__.WeatherModel object at 0x1112f5a60>, <__main__.WeatherModel object at 0x1112f5b20>, <__main__.WeatherModel object at 0x1112f5be0>, <__main__.WeatherModel object at 0x1112f5ca0>, <__main__.WeatherModel object at 0x1112f5d60>, <__main__.WeatherModel object at 0x1112f5e20>, <__main__.WeatherModel object at 0x1112f5ee0>, <__main__.WeatherModel object at 0x1112f5fa0>, <__main__.WeatherModel object at 0x1112f6060>, <__main__.WeatherModel object at 0x1112f6120>, <__main__.WeatherModel object at 0x1112f61e0>, <__main__.WeatherModel object at 0x1112f62a0>, <__main__.WeatherModel object at 0x1112f6360>, <__main__.WeatherModel object at 0x1112f6420>, <__main__.WeatherModel object at 0x1112f64e0>, <__main__.WeatherModel object at 0x1112f65a0>, <__main__.WeatherModel object at 0x1112f6660>, <__main__.WeatherModel object at 0x1112f6720>, <__main__.WeatherModel object at 0x1112f67e0>, <__main__.WeatherModel object at 0x1112f68a0>, <__main__.WeatherModel object at 0x1112f6960>, <__main__.WeatherModel object at 0x1112f6a20>, <__main__.WeatherModel object at 0x1112f6ae0>, <__main__.WeatherModel object at 0x1112f6ba0>, <__main__.WeatherModel object at 0x1112f6c60>, <__main__.WeatherModel object at 0x1112f6d20>, <__main__.WeatherModel object at 0x1112f6de0>, <__main__.WeatherModel object at 0x1112f6ea0>, <__main__.WeatherModel object at 0x1112f6f60>, <__main__.WeatherModel object at 0x1112f7020>, <__main__.WeatherModel object at 0x1112f70e0>, <__main__.WeatherModel object at 0x1112f71a0>, <__main__.WeatherModel object at 0x1112f7260>, <__main__.WeatherModel object at 0x1112f7320>, <__main__.WeatherModel object at 0x1112f73e0>, <__main__.WeatherModel object at 0x1112f74a0>, <__main__.WeatherModel object at 0x1112f7560>, <__main__.WeatherModel object at 0x1112f7620>, <__main__.WeatherModel object at 0x1112f76e0>, <__main__.WeatherModel object at 0x1112f77a0>, <__main__.WeatherModel object at 0x1112f7860>, <__main__.WeatherModel object at 0x1112f7920>, <__main__.WeatherModel object at 0x1112f79e0>, <__main__.WeatherModel object at 0x1112f7aa0>, <__main__.WeatherModel object at 0x1112f7b60>, <__main__.WeatherModel object at 0x1112f7c20>, <__main__.WeatherModel object at 0x1112f7ce0>, <__main__.WeatherModel object at 0x1112f7da0>, <__main__.WeatherModel object at 0x1112f7e60>, <__main__.WeatherModel object at 0x1112f7f20>, <__main__.WeatherModel object at 0x1112f7fe0>, <__main__.WeatherModel object at 0x111c840e0>, <__main__.WeatherModel object at 0x111c841a0>, <__main__.WeatherModel object at 0x111c84260>, <__main__.WeatherModel object at 0x111c84320>, <__main__.WeatherModel object at 0x111c843e0>, <__main__.WeatherModel object at 0x111c844a0>, <__main__.WeatherModel object at 0x111c84560>, <__main__.WeatherModel object at 0x111c84620>, <__main__.WeatherModel object at 0x111c846e0>, <__main__.WeatherModel object at 0x111c847a0>, <__main__.WeatherModel object at 0x111c84860>, <__main__.WeatherModel object at 0x111c84920>, <__main__.WeatherModel object at 0x111c849e0>, <__main__.WeatherModel object at 0x111c84aa0>, <__main__.WeatherModel object at 0x111c84b60>, <__main__.WeatherModel object at 0x111c84c20>, <__main__.WeatherModel object at 0x111c84ce0>, <__main__.WeatherModel object at 0x111c84da0>, <__main__.WeatherModel object at 0x111c84e60>, <__main__.WeatherModel object at 0x111c84f20>, <__main__.WeatherModel object at 0x111c84fe0>, <__main__.WeatherModel object at 0x111c850a0>, <__main__.WeatherModel object at 0x111c85160>, <__main__.WeatherModel object at 0x111c85220>, <__main__.WeatherModel object at 0x111c852e0>, <__main__.WeatherModel object at 0x111c853a0>, <__main__.WeatherModel object at 0x111c85460>, <__main__.WeatherModel object at 0x111c85520>, <__main__.WeatherModel object at 0x111c855e0>, <__main__.WeatherModel object at 0x111c856a0>, <__main__.WeatherModel object at 0x111c85760>, <__main__.WeatherModel object at 0x111c85820>, <__main__.WeatherModel object at 0x111c858e0>, <__main__.WeatherModel object at 0x111c859a0>, <__main__.WeatherModel object at 0x111c85a60>, <__main__.WeatherModel object at 0x111c85b20>, <__main__.WeatherModel object at 0x111c85be0>, <__main__.WeatherModel object at 0x111c85ca0>, <__main__.WeatherModel object at 0x111c85d60>, <__main__.WeatherModel object at 0x111c85e20>, <__main__.WeatherModel object at 0x111c85ee0>, <__main__.WeatherModel object at 0x111c85fa0>, <__main__.WeatherModel object at 0x111c86060>, <__main__.WeatherModel object at 0x111c86120>, <__main__.WeatherModel object at 0x111c861e0>, <__main__.WeatherModel object at 0x111c862a0>, <__main__.WeatherModel object at 0x111c86360>, <__main__.WeatherModel object at 0x111c86420>, <__main__.WeatherModel object at 0x111c864e0>, <__main__.WeatherModel object at 0x111c865a0>, <__main__.WeatherModel object at 0x1112a1eb0>]\n"
     ]
    }
   ],
   "source": [
    "weather = []\n",
    "with open(\"weather.csv\", \"r\") as csv_file:\n",
    "    reader = csv.reader(csv_file)\n",
    "    line_count = 0\n",
    "    for row in reader:\n",
    "        if line_count != 0:\n",
    "            rowModel = WeatherModel(row[0], float(row[1]), (row[2]), (row[3]))\n",
    "            weather.append(rowModel)\n",
    "        line_count += 1\n",
    "    print(weather)"
   ]
  },
  {
   "cell_type": "code",
   "execution_count": 32,
   "metadata": {},
   "outputs": [
    {
     "name": "stdout",
     "output_type": "stream",
     "text": [
      "Ha : 144.0 : MG : high wind\n",
      "Ca : 139.0 : MG : high wind\n",
      "Ca : 136.0 : MG : high wind\n",
      "Ut : 129.0 : MG : high wind\n",
      "Ut : 113.0 : MG : high wind\n",
      "So : 113.0 : EG : thunderstorm wind\n",
      "Wy : 111.0 : MG : high wind\n",
      "So : 109.0 : EG : thunderstorm wind\n",
      "So : 104.0 : MG : thunderstorm wind\n",
      "So : 104.0 : EG : thunderstorm wind\n",
      "Ca : 104.0 : MG : high wind\n",
      "So : 104.0 : MG : thunderstorm wind\n",
      "No : 104.0 : EG : thunderstorm wind\n",
      "Oh : 104.0 : EG : thunderstorm wind\n",
      "Oh : 104.0 : EG : thunderstorm wind\n",
      "No : 104.0 : EG : thunderstorm wind\n",
      "Ca : 103.0 : MG : high wind\n",
      "Ne : 101.0 : MG : high wind\n",
      "Ca : 101.0 : MG : high wind\n",
      "Co : 101.0 : MG : high wind\n",
      "Ka : 100.0 : EG : thunderstorm wind\n",
      "Ca : 98.0 : MG : high wind\n",
      "Ca : 97.0 : MG : high wind\n",
      "Ne : 97.0 : MG : high wind\n",
      "Wy : 96.0 : MG : high wind\n",
      "Ca : 96.0 : MG : high wind\n",
      "No : 96.0 : EG : thunderstorm wind\n",
      "De : 96.0 : EG : thunderstorm wind\n",
      "No : 96.0 : EG : thunderstorm wind\n",
      "De : 96.0 : EG : thunderstorm wind\n",
      "So : 96.0 : EG : thunderstorm wind\n",
      "De : 96.0 : EG : thunderstorm wind\n",
      "Mi : 96.0 : EG : thunderstorm wind\n",
      "Pe : 96.0 : EG : thunderstorm wind\n",
      "Ka : 96.0 : EG : thunderstorm wind\n",
      "Ca : 96.0 : MG : high wind\n",
      "Mi : 96.0 : EG : thunderstorm wind\n",
      "Pe : 96.0 : EG : thunderstorm wind\n",
      "Ca : 96.0 : MG : high wind\n",
      "Ca : 95.0 : MG : high wind\n",
      "Ca : 95.0 : MG : high wind\n",
      "Wy : 95.0 : MG : high wind\n",
      "Ne : 95.0 : MG : high wind\n",
      "Ca : 95.0 : MG : high wind\n",
      "Ne : 94.0 : MG : high wind\n",
      "Ca : 94.0 : MG : high wind\n",
      "So : 93.0 : MG : thunderstorm wind\n",
      "Wy : 93.0 : MG : high wind\n",
      "Co : 92.0 : MG : high wind\n",
      "Co : 91.0 : MG : high wind\n",
      "So : 91.0 : EG : thunderstorm wind\n",
      "So : 91.0 : EG : thunderstorm wind\n",
      "Ne : 91.0 : EG : thunderstorm wind\n",
      "Ca : 91.0 : MG : high wind\n",
      "Te : 91.0 : EG : thunderstorm wind\n",
      "Wa : 90.0 : MG : high wind\n",
      "Ne : 90.0 : MG : high wind\n",
      "Ca : 90.0 : MG : high wind\n",
      "Ne : 90.0 : MG : high wind\n",
      "Ca : 90.0 : MG : high wind\n",
      "Ca : 89.0 : MG : high wind\n",
      "Ca : 89.0 : MG : high wind\n",
      "Ca : 89.0 : MG : high wind\n",
      "So : 89.0 : MG : thunderstorm wind\n",
      "We : 89.0 : MG : thunderstorm wind\n",
      "Ca : 88.0 : MG : high wind\n",
      "Ca : 88.0 : MG : high wind\n",
      "Oh : 87.0 : EG : thunderstorm wind\n",
      "Te : 87.0 : EG : thunderstorm wind\n",
      "In : 87.0 : EG : thunderstorm wind\n",
      "In : 87.0 : EG : thunderstorm wind\n",
      "Ka : 87.0 : EG : thunderstorm wind\n",
      "Ka : 87.0 : EG : thunderstorm wind\n",
      "Co : 87.0 : MG : high wind\n",
      "Ok : 87.0 : EG : thunderstorm wind\n",
      "Ok : 87.0 : EG : thunderstorm wind\n",
      "Ok : 87.0 : EG : thunderstorm wind\n",
      "Ok : 87.0 : EG : thunderstorm wind\n",
      "Ne : 87.0 : EG : thunderstorm wind\n",
      "Ok : 87.0 : EG : thunderstorm wind\n",
      "No : 87.0 : EG : thunderstorm wind\n",
      "Wy : 87.0 : EG : thunderstorm wind\n",
      "Ka : 87.0 : EG : thunderstorm wind\n",
      "Te : 87.0 : EG : thunderstorm wind\n",
      "Ne : 87.0 : EG : thunderstorm wind\n",
      "Ka : 87.0 : EG : thunderstorm wind\n",
      "Ka : 87.0 : EG : thunderstorm wind\n",
      "Ka : 87.0 : MG : thunderstorm wind\n",
      "Mi : 87.0 : EG : thunderstorm wind\n",
      "Al : 87.0 : EG : thunderstorm wind\n",
      "Ca : 87.0 : MG : high wind\n",
      "Ar : 87.0 : EG : thunderstorm wind\n",
      "Te : 87.0 : EG : thunderstorm wind\n",
      "So : 87.0 : EG : thunderstorm wind\n",
      "So : 87.0 : EG : thunderstorm wind\n",
      "Ne : 87.0 : EG : thunderstorm wind\n",
      "Mi : 87.0 : EG : thunderstorm wind\n",
      "Ok : 87.0 : EG : thunderstorm wind\n",
      "Al : 87.0 : EG : thunderstorm wind\n",
      "Mi : 87.0 : EG : thunderstorm wind\n",
      "Ne : 87.0 : EG : thunderstorm wind\n",
      "So : 87.0 : EG : thunderstorm wind\n",
      "Ne : 87.0 : EG : thunderstorm wind\n",
      "Mi : 87.0 : EG : thunderstorm wind\n",
      "In : 87.0 : EG : thunderstorm wind\n",
      "Wi : 87.0 : EG : thunderstorm wind\n",
      "Wi : 87.0 : EG : thunderstorm wind\n",
      "No : 87.0 : EG : thunderstorm wind\n",
      "Ne : 87.0 : EG : thunderstorm wind\n",
      "Ok : 87.0 : EG : thunderstorm wind\n",
      "Ok : 87.0 : EG : thunderstorm wind\n",
      "Ne : 87.0 : EG : thunderstorm wind\n",
      "No : 87.0 : EG : thunderstorm wind\n",
      "Pe : 87.0 : EG : thunderstorm wind\n",
      "Pe : 87.0 : EG : thunderstorm wind\n",
      "No : 87.0 : EG : thunderstorm wind\n",
      "Oh : 87.0 : EG : thunderstorm wind\n",
      "Ka : 86.0 : EG : thunderstorm wind\n",
      "Ca : 86.0 : MG : high wind\n",
      "Ca : 86.0 : MG : high wind\n",
      "So : 86.0 : MG : thunderstorm wind\n",
      "Wy : 86.0 : MG : high wind\n",
      "Wa : 86.0 : MG : high wind\n",
      "Or : 86.0 : MG : high wind\n",
      "Ok : 86.0 : MG : thunderstorm wind\n",
      "Ca : 85.0 : MG : high wind\n",
      "We : 85.0 : EG : thunderstorm wind\n",
      "Ca : 85.0 : MG : high wind\n",
      "Vi : 85.0 : EG : thunderstorm wind\n",
      "Ne : 84.0 : MG : high wind\n",
      "So : 84.0 : MG : thunderstorm wind\n",
      "So : 84.0 : EG : thunderstorm wind\n",
      "Il : 83.0 : EG : thunderstorm wind\n",
      "Id : 83.0 : EG : high wind\n",
      "Or : 83.0 : MG : high wind\n",
      "Al : 83.0 : EG : thunderstorm wind\n",
      "So : 83.0 : EG : thunderstorm wind\n",
      "Ut : 83.0 : MG : high wind\n",
      "So : 83.0 : MG : thunderstorm wind\n",
      "Ne : 83.0 : MG : high wind\n",
      "Te : 83.0 : EG : thunderstorm wind\n",
      "Ka : 83.0 : EG : thunderstorm wind\n",
      "Mi : 83.0 : EG : thunderstorm wind\n",
      "No : 83.0 : EG : thunderstorm wind\n",
      "Te : 83.0 : EG : thunderstorm wind\n",
      "Mi : 83.0 : EG : thunderstorm wind\n",
      "Ka : 83.0 : EG : thunderstorm wind\n",
      "Mi : 83.0 : EG : thunderstorm wind\n",
      "Mi : 83.0 : EG : thunderstorm wind\n",
      "Ca : 83.0 : MG : high wind\n",
      "Al : 83.0 : MG : high wind\n",
      "Te : 83.0 : EG : thunderstorm wind\n",
      "Ut : 83.0 : EG : high wind\n",
      "Ne : 83.0 : EG : thunderstorm wind\n",
      "So : 83.0 : EG : thunderstorm wind\n",
      "So : 83.0 : EG : thunderstorm wind\n",
      "So : 83.0 : EG : thunderstorm wind\n",
      "Ka : 83.0 : EG : thunderstorm wind\n",
      "So : 83.0 : MG : thunderstorm wind\n",
      "Ne : 83.0 : MG : high wind\n",
      "Ca : 83.0 : MG : high wind\n",
      "Ka : 83.0 : EG : thunderstorm wind\n",
      "So : 83.0 : EG : thunderstorm wind\n",
      "So : 83.0 : EG : thunderstorm wind\n",
      "So : 83.0 : EG : thunderstorm wind\n",
      "So : 83.0 : EG : thunderstorm wind\n",
      "Ne : 83.0 : EG : thunderstorm wind\n",
      "Ne : 83.0 : EG : thunderstorm wind\n",
      "So : 83.0 : EG : thunderstorm wind\n",
      "So : 83.0 : EG : thunderstorm wind\n",
      "Ne : 83.0 : EG : thunderstorm wind\n",
      "Mi : 83.0 : EG : thunderstorm wind\n",
      "Ca : 83.0 : MG : high wind\n",
      "Ne : 83.0 : EG : thunderstorm wind\n",
      "Ne : 83.0 : EG : thunderstorm wind\n",
      "Mi : 83.0 : EG : thunderstorm wind\n",
      "Lo : 83.0 : EG : thunderstorm wind\n",
      "So : 83.0 : EG : thunderstorm wind\n",
      "Te : 83.0 : EG : thunderstorm wind\n",
      "Te : 83.0 : EG : thunderstorm wind\n",
      "Co : 83.0 : MG : high wind\n",
      "Te : 83.0 : MG : high wind\n",
      "Lo : 83.0 : EG : thunderstorm wind\n",
      "Oh : 83.0 : EG : thunderstorm wind\n",
      "Ka : 82.0 : EG : thunderstorm wind\n",
      "Or : 82.0 : MG : high wind\n",
      "Mi : 82.0 : MG : thunderstorm wind\n",
      "Wy : 82.0 : MG : high wind\n",
      "Mi : 82.0 : MG : thunderstorm wind\n",
      "Wy : 82.0 : MG : thunderstorm wind\n",
      "Wy : 82.0 : MG : thunderstorm wind\n",
      "Oh : 82.0 : EG : thunderstorm wind\n",
      "Ne : 82.0 : MG : high wind\n",
      "Wy : 81.0 : MG : high wind\n",
      "Or : 81.0 : MG : high wind\n",
      "Ne : 81.0 : MG : high wind\n",
      "Ne : 81.0 : MG : high wind\n",
      "Mi : 81.0 : EG : thunderstorm wind\n",
      "Al : 81.0 : EG : thunderstorm wind\n",
      "Al : 81.0 : EG : thunderstorm wind\n",
      "Ne : 81.0 : MG : high wind\n",
      "Ne : 81.0 : MG : high wind\n",
      "Ca : 81.0 : EG : high wind\n",
      "Ne : 81.0 : MG : high wind\n",
      "Mi : 80.0 : EG : thunderstorm wind\n",
      "So : 80.0 : EG : thunderstorm wind\n",
      "Vi : 80.0 : EG : thunderstorm wind\n",
      "Ka : 80.0 : MG : thunderstorm wind\n",
      "Ca : 80.0 : MG : high wind\n",
      "Ma : 80.0 : EG : thunderstorm wind\n",
      "Ma : 80.0 : EG : thunderstorm wind\n",
      "Ka : 80.0 : EG : thunderstorm wind\n",
      "Ka : 80.0 : EG : thunderstorm wind\n",
      "Ka : 80.0 : EG : thunderstorm wind\n",
      "Ka : 80.0 : EG : thunderstorm wind\n",
      "So : 80.0 : EG : thunderstorm wind\n",
      "Ka : 80.0 : EG : thunderstorm wind\n",
      "Ka : 80.0 : EG : thunderstorm wind\n",
      "Ka : 80.0 : EG : thunderstorm wind\n",
      "Mi : 80.0 : EG : thunderstorm wind\n",
      "Fl : 80.0 : EG : thunderstorm wind\n",
      "Ka : 80.0 : EG : thunderstorm wind\n",
      "Oh : 80.0 : EG : thunderstorm wind\n",
      "Vi : 80.0 : EG : thunderstorm wind\n",
      "So : 80.0 : MG : thunderstorm wind\n",
      "Wy : 80.0 : MG : high wind\n",
      "Al : 80.0 : MG : high wind\n"
     ]
    }
   ],
   "source": [
    "for state in weather:\n",
    "    print(state)"
   ]
  },
  {
   "cell_type": "code",
   "execution_count": 33,
   "metadata": {},
   "outputs": [
    {
     "name": "stdout",
     "output_type": "stream",
     "text": [
      "Storms by type/frequency:  (array(['high wind', 'thunderstorm wind'], dtype='<U17'), array([ 75, 152]))\n",
      "Thunder %:  66.96035242290749\n",
      "Wind %:  33.03964757709251\n",
      "227\n"
     ]
    }
   ],
   "source": [
    "#METHOD 1\n",
    "# What percent of event types were thunderstorms vs high winds?\n",
    "# Explore storm types/frequency:\n",
    "storms = np.unique(np.array([x.event_type for x in weather]), return_counts=True)\n",
    "thunder_percent = storms[1][1] / len(weather) * 100\n",
    "wind_percent = storms[1][0] / len(weather) * 100\n",
    "print(\"Storms by type/frequency: \", storms)\n",
    "print(\"Thunder %: \", thunder_percent)\n",
    "print(\"Wind %: \", wind_percent)\n",
    "print(len(weather))"
   ]
  },
  {
   "cell_type": "markdown",
   "metadata": {},
   "source": [
    "There are two types of storms, as shown above.  Thunderstorms are about twice as frequent as high wind storms. "
   ]
  },
  {
   "cell_type": "code",
   "execution_count": 34,
   "metadata": {},
   "outputs": [
    {
     "name": "stdout",
     "output_type": "stream",
     "text": [
      "% of events that were thunderstorms: % 66.96035242290749\n",
      "% of events that were high wind storms: % 33.03964757709251\n"
     ]
    }
   ],
   "source": [
    "#METHOD 2\n",
    "# What percent of event types were thunderstorms vs high winds?\n",
    "thunder_count = len([x.event_type for x in weather if x.event_type == \"thunderstorm wind\"])\n",
    "print(\"% of events that were thunderstorms: %\", thunder_count * 100 / len(weather))\n",
    "wind_count = len([x.event_type for x in weather if x.event_type == \"high wind\"])\n",
    "print(\"% of events that were high wind storms: %\", wind_count * 100 / len(weather))"
   ]
  },
  {
   "cell_type": "code",
   "execution_count": 35,
   "metadata": {},
   "outputs": [
    {
     "name": "stdout",
     "output_type": "stream",
     "text": [
      "(array(['Al', 'Ar', 'Ca', 'Co', 'De', 'Fl', 'Ha', 'Id', 'Il', 'In', 'Ka',\n",
      "       'Lo', 'Ma', 'Mi', 'Ne', 'No', 'Oh', 'Ok', 'Or', 'Pe', 'So', 'Te',\n",
      "       'Ut', 'Vi', 'Wa', 'We', 'Wi', 'Wy'], dtype='<U2'), array([ 7,  1, 32,  5,  3,  1,  1,  1,  1,  3, 23,  2,  2, 17, 29,  9,  7,\n",
      "        9,  4,  4, 32, 10,  4,  3,  2,  2,  2, 11]))\n"
     ]
    }
   ],
   "source": [
    "# What state had the least number of these types of storms?  What state had the most?\n",
    "# all weather\n",
    "print(np.unique(np.array([x.state for x in weather]), return_counts=True))"
   ]
  },
  {
   "cell_type": "markdown",
   "metadata": {},
   "source": [
    "The first array above is the list of storms with severe weather events, the second array is the total number of severe weather events that state had.  Now I'll look at it by event type, starting with thunder."
   ]
  },
  {
   "cell_type": "code",
   "execution_count": 36,
   "metadata": {},
   "outputs": [
    {
     "name": "stdout",
     "output_type": "stream",
     "text": [
      "States/#Thunderstorms:  {'Al': 5, 'Ar': 1, 'De': 3, 'Fl': 1, 'Il': 1, 'In': 3, 'Ka': 23, 'Lo': 2, 'Ma': 2, 'Mi': 17, 'Ne': 14, 'No': 9, 'Oh': 7, 'Ok': 9, 'Pe': 4, 'So': 32, 'Te': 9, 'Vi': 3, 'We': 2, 'Wi': 2, 'Wy': 3}\n",
      "State with most Thunder:  (32, 'So')\n",
      "State with least Thunder:  (1, 'Ar')\n"
     ]
    }
   ],
   "source": [
    "#By Thunder\n",
    "all_states = np.array([x.state for x in weather if x.event_type == \"thunderstorm wind\"])\n",
    "state_counts = np.unique(np.array([x.state for x in weather if x.event_type == \"thunderstorm wind\"]),return_counts=True)\n",
    "thun_states = np.unique(np.array([x.state for x in weather if x.event_type == \"thunderstorm wind\"]),return_counts=True,)[0]\n",
    "thun_counts = np.unique(np.array([x.state for x in weather if x.event_type == \"thunderstorm wind\"]),return_counts=True,)[1]\n",
    "thun_Dict = {thun_states[i]: thun_counts[i] for i in range(len(thun_states))}  #Dictionary comprehension, just like list comprehension\n",
    " \n",
    "print(\"States/#Thunderstorms: \",thun_Dict)\n",
    "print(\"State with most Thunder: \", max(zip(thun_Dict.values(), thun_Dict.keys())))  #Easiest method I found to find max value in dictionary\n",
    "print(\"State with least Thunder: \", min(zip(thun_Dict.values(), thun_Dict.keys())))"
   ]
  },
  {
   "cell_type": "markdown",
   "metadata": {},
   "source": [
    "We can see that the state with the most thunderstorms is So?, and thunderstorms made up all 32 of that state's severe weather events.  Now let's look at wind."
   ]
  },
  {
   "cell_type": "code",
   "execution_count": 37,
   "metadata": {},
   "outputs": [
    {
     "name": "stdout",
     "output_type": "stream",
     "text": [
      "['Al' 'Ca' 'Co' 'Ha' 'Id' 'Ne' 'Or' 'Te' 'Ut' 'Wa' 'Wy']\n",
      "States/#Windstorms:  {'Al': 2, 'Ca': 32, 'Co': 5, 'Ha': 1, 'Id': 1, 'Ne': 15, 'Or': 4, 'Te': 1, 'Ut': 4, 'Wa': 2, 'Wy': 8}\n",
      "State with most high wind:  (32, 'Ca')\n",
      "State with least high wind:  (1, 'Ha')\n"
     ]
    }
   ],
   "source": [
    "#By wind\n",
    "wind_states = np.unique(np.array([x.state for x in weather if x.event_type == \"high wind\"]),return_counts=True,)[0]\n",
    "wind_counts = np.unique(np.array([x.state for x in weather if x.event_type == \"high wind\"]),return_counts=True,)[1]\n",
    "wind_Dict = {wind_states[i]: wind_counts[i] for i in range(len(wind_states))}\n",
    "print(wind_states)\n",
    "print(\"States/#Windstorms: \",wind_Dict)\n",
    "print(\"State with most high wind: \", max(zip(wind_Dict.values(), wind_Dict.keys())))\n",
    "print(\"State with least high wind: \", min(zip(wind_Dict.values(), wind_Dict.keys())))"
   ]
  },
  {
   "cell_type": "markdown",
   "metadata": {},
   "source": [
    "The state with the most high wind storms is California.  Again, all 32 of that states severe weather events were of one type.  "
   ]
  },
  {
   "cell_type": "code",
   "execution_count": 38,
   "metadata": {},
   "outputs": [
    {
     "name": "stdout",
     "output_type": "stream",
     "text": [
      "Mean:  88.26872246696036\n",
      "Median:  87.0\n",
      "St. Dev:  9.464659033193188\n"
     ]
    }
   ],
   "source": [
    "# What was the mean, median, and standard deviation of the magnitude?\n",
    "print(\"Mean: \",np.mean(np.array([x.magnitude for x in weather])))\n",
    "print(\"Median: \",np.median(np.array([x.magnitude for x in weather])))\n",
    "print(\"St. Dev: \",np.std(np.array([x.magnitude for x in weather])))"
   ]
  },
  {
   "cell_type": "code",
   "execution_count": 40,
   "metadata": {},
   "outputs": [
    {
     "name": "stdout",
     "output_type": "stream",
     "text": [
      "['alp', 'alp', 'bet', 'bet', 'bet', 'gam', 'gam', 'gam', 'gam', 'gam']\n",
      "['alp' 'bet' 'gam']\n",
      "[2 3 5]\n",
      "[('alp', 2), ('bet', 3), ('gam', 5)]\n"
     ]
    }
   ],
   "source": [
    "# Help with another group's SQL assignment from yesterday\n",
    "\n",
    "array1 = [\"alp\", \"alp\", \"bet\", \"bet\", \"bet\", \"gam\", \"gam\", \"gam\", \"gam\", \"gam\"]\n",
    "array2 = np.unique(array1)\n",
    "array3 = np.unique(array1, return_counts=True)[1][:]\n",
    "# Subsets output of return_counts=True, which sends list of values followed by a list of counts of same values\n",
    "array4 = list(zip(array2, array3))\n",
    "#puts elements from each list together as a list of tuples \n",
    "print(array1)\n",
    "print(array2)\n",
    "print(array3)\n",
    "print(array4)"
   ]
  }
 ],
 "metadata": {
  "kernelspec": {
   "display_name": "Python 3",
   "language": "python",
   "name": "python3"
  },
  "language_info": {
   "codemirror_mode": {
    "name": "ipython",
    "version": 3
   },
   "file_extension": ".py",
   "mimetype": "text/x-python",
   "name": "python",
   "nbconvert_exporter": "python",
   "pygments_lexer": "ipython3",
   "version": "3.12.0"
  }
 },
 "nbformat": 4,
 "nbformat_minor": 2
}
