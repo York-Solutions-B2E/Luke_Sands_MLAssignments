{
 "cells": [
  {
   "cell_type": "markdown",
   "metadata": {},
   "source": [
    "1d Array\n",
    "Create a 1-dimensional NumPy array with elements [1, 2, 3, 4, 5, 6, 7, 8, 9, 10].\n",
    "Calculate the sum and average of the array elements.\n",
    "Multiply the array by a scalar value of 3.\n",
    "Slice the array to select elements from the 3rd to the 7th position.\n",
    "Compute the sum and average of the sliced array\n",
    "\n",
    "Multi-dimensional array\n",
    "Create a 3x3 matrix with the following rows in order: {3,4,5} {6,7,8} {9,1,2}\n",
    "Print the element in the second row, third column.\n",
    "Print the second row\n",
    "Print the second column\n",
    "Compute the transpose of the matrix\n",
    "\n",
    "Concatenation\n",
    "Create two 1-d arrays: [5,1,4,2] and [6,10,11,7]\n",
    "Concatenate the two arrays\n",
    "Sort the new array from lowest to highest\n",
    "Split the result from the previous step into two equal sized arrays\n",
    "\n",
    "Mathematical functions\n",
    "Create an array with values from 0 to 4*pi in increments of pi/2 (pi refers to the mathematical constant  π)\n",
    "Compute an array that applies the mathematical sin function to the original array\n",
    "Do the same for the following mathematical functions: cos, log, exp\n",
    "Compute the mean, median, and standard deviation of each resultant array\n",
    "\n",
    "Boolean Indexing and Filtering\n",
    "Create a 1-d array with all multiples of 5 from 15 to 80, and also include 12\n",
    "Create a boolean array that identifies elements which are greater than 25\n",
    "Use that boolean array to filter out elements greater than 25 from the original array."
   ]
  },
  {
   "cell_type": "code",
   "execution_count": 5,
   "metadata": {},
   "outputs": [
    {
     "name": "stdout",
     "output_type": "stream",
     "text": [
      "[ 1  2  3  4  5  6  7  8  9 10]\n",
      "55\n",
      "5.5\n",
      "[ 3  6  9 12 15 18 21 24 27 30]\n",
      "[3 4 5 6 7]\n",
      "25\n",
      "5.0\n"
     ]
    }
   ],
   "source": [
    "# 1d Array\n",
    "# Create a 1-dimensional NumPy array with elements [1, 2, 3, 4, 5, 6, 7, 8, 9, 10].\n",
    "# Calculate the sum and average of the array elements.\n",
    "# Multiply the array by a scalar value of 3.\n",
    "# Slice the array to select elements from the 3rd to the 7th position.\n",
    "# Compute the sum and average of the sliced array\n",
    "\n",
    "import numpy as np\n",
    "array_1D = np.arange(1,11)\n",
    "print(array_1D)\n",
    "one_d_array = np.array([1, 2, 3, 4, 5, 6, 7, 8, 9, 10])\n",
    "total = sum(one_d_array)\n",
    "avg = np.mean(one_d_array)\n",
    "times_3 = 3 * one_d_array\n",
    "slice_3_7 = one_d_array[2:7]\n",
    "slice_total = sum(slice_3_7)\n",
    "slice_avg = np.mean(slice_3_7)\n",
    "print(total)\n",
    "print(avg)\n",
    "print(times_3)\n",
    "print(slice_3_7)\n",
    "print(slice_total)\n",
    "print(slice_avg)"
   ]
  },
  {
   "cell_type": "code",
   "execution_count": 4,
   "metadata": {},
   "outputs": [
    {
     "data": {
      "text/plain": [
       "array([ 1,  2,  3,  4,  5,  6,  7,  8,  9, 10])"
      ]
     },
     "execution_count": 4,
     "metadata": {},
     "output_type": "execute_result"
    }
   ],
   "source": [
    "array_1D"
   ]
  },
  {
   "cell_type": "code",
   "execution_count": 95,
   "metadata": {},
   "outputs": [
    {
     "name": "stdout",
     "output_type": "stream",
     "text": [
      "2nd Row, 3rd Column:  8\n",
      "2nd Row:  [6 7 8]\n",
      "2nd Column:  [4 7 1]\n"
     ]
    },
    {
     "data": {
      "text/plain": [
       "'Transpose: '"
      ]
     },
     "metadata": {},
     "output_type": "display_data"
    },
    {
     "data": {
      "text/plain": [
       "array([[3, 6, 9],\n",
       "       [4, 7, 1],\n",
       "       [5, 8, 2]])"
      ]
     },
     "metadata": {},
     "output_type": "display_data"
    }
   ],
   "source": [
    "# Multi-dimensional array\n",
    "# Create a 3x3 matrix with the following rows in order: {3,4,5} {6,7,8} {9,1,2}\n",
    "# Print the element in the second row, third column.\n",
    "# Print the second row\n",
    "# Print the second column\n",
    "# Compute the transpose of the matrix\n",
    "\n",
    "array_3D = np.array([[3,4,5], [6,7,8],[9,1,2]])\n",
    "print(\"2nd Row, 3rd Column: \", array_3D[1,2])\n",
    "print(\"2nd Row: \", array_3D[1])\n",
    "print(\"2nd Column: \", array_3D[:,1])\n",
    "transpose = array_3D.T\n",
    "display(\"Transpose: \", transpose)\n"
   ]
  },
  {
   "cell_type": "code",
   "execution_count": 45,
   "metadata": {},
   "outputs": [
    {
     "name": "stdout",
     "output_type": "stream",
     "text": [
      "[11 11 15  9]\n",
      "[ 9 11 11 15]\n",
      "[array([ 9, 11]), array([11, 15])]\n",
      "11\n"
     ]
    }
   ],
   "source": [
    "# Concatenation\n",
    "# Create two 1-d arrays: [5,1,4,2] and [6,10,11,7]\n",
    "# Concatenate the two arrays\n",
    "# Sort the new array from lowest to highest\n",
    "# Split the result from the previous step into two equal sized arrays\n",
    "\n",
    "arr1 = np.array([5, 1, 4, 2])\n",
    "arr2 = np.array([6, 10, 11, 7])\n",
    "both = arr1 + arr2\n",
    "print(both)\n",
    "sorted_array = np.sort(both)\n",
    "print(sorted_array)\n",
    "split_arr1 = np.array_split(sorted_array, 2)\n",
    "print(split_arr)\n",
    "#OR\n",
    "split_arr2 = np.array(sorted_array[0],sorted_array[1])\n",
    "print(split_arr[0][1])\n"
   ]
  },
  {
   "cell_type": "code",
   "execution_count": 6,
   "metadata": {},
   "outputs": [
    {
     "name": "stdout",
     "output_type": "stream",
     "text": [
      "Pi values array\n",
      "[ 0.          1.57079633  3.14159265  4.71238898  6.28318531  7.85398163\n",
      "  9.42477796 10.99557429 12.56637061]\n",
      "--------------------------------------------------\n",
      "SIN values array\n",
      "[ 0.0000000e+00  1.0000000e+00  1.2246468e-16 -1.0000000e+00\n",
      " -2.4492936e-16  1.0000000e+00  3.6739404e-16 -1.0000000e+00\n",
      " -4.8985872e-16]\n",
      "--------------------------------------------------\n",
      "COS values array\n",
      "[ 1.0000000e+00  6.1232340e-17 -1.0000000e+00 -1.8369702e-16\n",
      "  1.0000000e+00  3.0616170e-16 -1.0000000e+00 -4.2862638e-16\n",
      "  1.0000000e+00]\n",
      "--------------------------------------------------\n",
      "Log values array\n",
      "[      -inf 0.45158271 1.14472989 1.55019499 1.83787707 2.06102062\n",
      " 2.24334217 2.39749285 2.53102425]\n",
      "--------------------------------------------------\n",
      "Log values array\n",
      "[1.00000000e+00 4.81047738e+00 2.31406926e+01 1.11317778e+02\n",
      " 5.35491656e+02 2.57597050e+03 1.23916478e+04 5.96097415e+04\n",
      " 2.86751313e+05]\n",
      "Avg:  6.283185307179587\n",
      "Med:  6.283185307179586\n",
      "St Dev:  4.055778675973612\n",
      "Avg:  -2.975712385932333e-17\n",
      "Med:  0.0\n",
      "St Dev:  0.6666666666666666\n",
      "Avg:  0.11111111111111106\n",
      "Med:  6.123233995736766e-17\n",
      "St Dev:  0.7370277311900889\n",
      "Avg:  -inf\n",
      "Med:  1.8378770664093453\n",
      "St Dev:  nan\n",
      "Avg:  40222.7148375631\n",
      "Med:  535.4916555247646\n",
      "St Dev:  89056.36419225672\n"
     ]
    },
    {
     "name": "stderr",
     "output_type": "stream",
     "text": [
      "/var/folders/jt/xt1b3v5j4171llx14wtwgmpc0000gn/T/ipykernel_15584/2380600262.py:24: RuntimeWarning: divide by zero encountered in log\n",
      "  log_array = np.log(pi_array)\n",
      "/Library/Frameworks/Python.framework/Versions/3.12/lib/python3.12/site-packages/numpy/core/_methods.py:173: RuntimeWarning: invalid value encountered in subtract\n",
      "  x = asanyarray(arr - arrmean)\n"
     ]
    }
   ],
   "source": [
    "# Mathematical functions\n",
    "# Create an array with values from 0 to 4*pi in increments of pi/2 (pi refers to the mathematical constant  π)\n",
    "# Compute an array that applies the mathematical sin function to the original array\n",
    "# Do the same for the following mathematical functions: cos, log, exp\n",
    "# Compute the mean, median, and standard deviation of each resultant array\n",
    "import math as m\n",
    "\n",
    "pi_array = []  # np.array(m.pi/2 * i for i in range(8))\n",
    "for i in range(0, 9):\n",
    "    pi_array.append(i * m.pi / 2)\n",
    "pi_array = np.array(pi_array)\n",
    "#Simpler way to make array\n",
    "new_pi_array  = np.arange(0,4*m.pi+1,m.pi/2)\n",
    "print(\"Pi values array\")\n",
    "print(pi_array)\n",
    "sin_array = np.sin(pi_array)\n",
    "print(50 * \"-\")\n",
    "print(\"SIN values array\")\n",
    "print(sin_array)\n",
    "cos_array = np.cos(pi_array)\n",
    "print(50 * \"-\")\n",
    "print(\"COS values array\")\n",
    "print(cos_array)\n",
    "log_array = np.log(pi_array)\n",
    "print(50 * \"-\")\n",
    "print(\"Log values array\")\n",
    "# for i in log_array:\n",
    "try:\n",
    "    print(log_array)\n",
    "except:\n",
    "    \"divide by zero\"\n",
    "print(50 * \"-\")\n",
    "print(\"Log values array\")\n",
    "exp_array = np.exp(pi_array)\n",
    "print(exp_array)\n",
    "all_arrays = list([pi_array, sin_array, cos_array, log_array, exp_array])\n",
    "for arr in all_arrays:\n",
    "    print(\"Avg: \", np.mean(arr))\n",
    "    print(\"Med: \", np.median(arr))\n",
    "    print(\"St Dev: \", np.std(arr))\n",
    "# print(\"Averages: \",np.mean(all_arrays))"
   ]
  },
  {
   "cell_type": "code",
   "execution_count": null,
   "metadata": {},
   "outputs": [],
   "source": [
    "pi = 3.14\n",
    "valuesArray = np.arange(0, (pi * 4 + pi / 2), pi / 2)"
   ]
  },
  {
   "cell_type": "code",
   "execution_count": 7,
   "metadata": {},
   "outputs": [
    {
     "name": "stdout",
     "output_type": "stream",
     "text": [
      "1).  First Array:  [12, 15, 20, 25, 30, 35, 40, 45, 50, 55, 60, 65, 70, 75, 80]\n",
      "2).  Boolean Array:  [False, False, False, False, True, True, True, True, True, True, True, True, True, True, True]\n",
      "3).  Filtered Array:  [30, 35, 40, 45, 50, 55, 60, 65, 70, 75, 80]\n"
     ]
    }
   ],
   "source": [
    "#MY FIRST,CLUNKY SOLUTION\n",
    "# Boolean Indexing and Filtering\n",
    "# Create a 1-d array with all multiples of 5 from 15 to 80, and also include 12\n",
    "# Create a boolean array that identifies elements which are greater than 25\n",
    "# Use that boolean array to filter out elements greater than 25 from the original array.\n",
    "new_arr = [12]\n",
    "for i in range(15, 81, 5):\n",
    "    new_arr.append(i)\n",
    "print(\"1).  First Array: \", new_arr)\n",
    "bool_arr = []\n",
    "for i in new_arr:\n",
    "    if i > 25:\n",
    "        bool_arr.append(True)\n",
    "    else:\n",
    "        bool_arr.append(False)\n",
    "print(\"2).  Boolean Array: \",bool_arr)\n",
    "newer_arr = list(zip(new_arr, bool_arr))\n",
    "keep = []\n",
    "for i, j in newer_arr:\n",
    "    if j == True:\n",
    "        keep.append(i)\n",
    "print(\"3).  Filtered Array: \", keep)"
   ]
  },
  {
   "cell_type": "code",
   "execution_count": 8,
   "metadata": {},
   "outputs": [
    {
     "name": "stdout",
     "output_type": "stream",
     "text": [
      "[12 15 20 25 30 35 40 45 50 55 60 65 70 75 80]\n",
      "Boolean array:  [False False False False  True  True  True  True  True  True  True  True\n",
      "  True  True  True]\n",
      "Filtered to exclude 25:  [12 15 20]\n",
      "Filtered to include 25:  [30 35 40 45 50 55 60 65 70 75 80]\n"
     ]
    }
   ],
   "source": [
    "# Way Better Solution:\n",
    "# Boolean Indexing and Filtering\n",
    "# Create a 1-d array with all multiples of 5 from 15 to 80, and also include 12\n",
    "# Create a boolean array that identifies elements which are greater than 25\n",
    "# Use that boolean array to filter out elements greater than 25 from the original array.\n",
    "arr1 = np.insert(np.arange(15, 81, 5), 0, 12)\n",
    "print(arr1)\n",
    "arrbool = arr1 > 25\n",
    "print(\"Boolean array: \", arrbool)\n",
    "print(\"Filtered to exclude 25: \", arr1[arr1 < 25])\n",
    "print(\"Filtered to include 25: \", arr1[arr1 > 25])"
   ]
  },
  {
   "cell_type": "code",
   "execution_count": 183,
   "metadata": {},
   "outputs": [
    {
     "name": "stdout",
     "output_type": "stream",
     "text": [
      "[[1. 1. 1. 1. 1.]\n",
      " [1. 0. 0. 0. 1.]\n",
      " [1. 0. 9. 0. 1.]\n",
      " [1. 0. 0. 0. 1.]\n",
      " [1. 1. 1. 1. 1.]]\n"
     ]
    }
   ],
   "source": [
    "#my idea\n",
    "start = np.zeros((5, 5))\n",
    "start[0, :] = 1\n",
    "start[-1,:] = 1\n",
    "start[:, -1] = 1\n",
    "start[:, 0] = 1\n",
    "start[2,2] = 9\n",
    "#start[1:4,1:4] = 3\n",
    "print(start)"
   ]
  },
  {
   "cell_type": "code",
   "execution_count": 139,
   "metadata": {},
   "outputs": [
    {
     "name": "stdout",
     "output_type": "stream",
     "text": [
      "[[1. 1. 1. 1. 1.]\n",
      " [1. 0. 0. 0. 1.]\n",
      " [1. 0. 9. 0. 1.]\n",
      " [1. 0. 0. 0. 1.]\n",
      " [1. 1. 1. 1. 1.]]\n"
     ]
    }
   ],
   "source": [
    "#other idea\n",
    "start = np.ones((5,5))\n",
    "z = np.zeros((3,3))\n",
    "z[1,1] = 9\n",
    "start[1:-1,1:-1] = z\n",
    "print(start)"
   ]
  },
  {
   "cell_type": "code",
   "execution_count": 151,
   "metadata": {},
   "outputs": [
    {
     "name": "stdout",
     "output_type": "stream",
     "text": [
      "[[ 1  2  3  4  5]\n",
      " [ 6  7  8  9 10]\n",
      " [11 12 13 14 15]\n",
      " [16 17 18 19 20]\n",
      " [21 22 23 24 25]\n",
      " [26 27 28 29 30]]\n",
      "[[11 12]\n",
      " [16 17]]\n",
      "[ 2  8 14 20]\n",
      "[[ 4  5]\n",
      " [24 25]\n",
      " [29 30]]\n"
     ]
    }
   ],
   "source": [
    "a  = np.array([1,2,3,4,5])\n",
    "b = a +5\n",
    "c = a + 10\n",
    "d = a + 15\n",
    "e = a + 20\n",
    "f = a + 25\n",
    "arr = np.array([a,b,c,d,e,f])\n",
    "print(arr)\n",
    "print(arr[2:4,0:2])\n",
    "print(arr[[0,1,2,3],[1,2,3,4]])\n",
    "print(arr[[0,4,5],3:])"
   ]
  }
 ],
 "metadata": {
  "kernelspec": {
   "display_name": "Python 3",
   "language": "python",
   "name": "python3"
  },
  "language_info": {
   "codemirror_mode": {
    "name": "ipython",
    "version": 3
   },
   "file_extension": ".py",
   "mimetype": "text/x-python",
   "name": "python",
   "nbconvert_exporter": "python",
   "pygments_lexer": "ipython3",
   "version": "3.12.0"
  }
 },
 "nbformat": 4,
 "nbformat_minor": 2
}
