{
 "cells": [
  {
   "cell_type": "code",
   "execution_count": null,
   "metadata": {},
   "outputs": [],
   "source": [
    "import csv\n",
    "import numpy as np"
   ]
  },
  {
   "cell_type": "code",
   "execution_count": null,
   "metadata": {},
   "outputs": [],
   "source": [
    "class PatenModel:\n",
    "    def __init__(self, applicant, inventor, language, title, description):\n",
    "        self.applicant = applicant\n",
    "        self.inventor = inventor\n",
    "        self.language = language\n",
    "        self.title = title\n",
    "        self.description = description\n",
    "\n",
    "    def __str__(self):\n",
    "        return (\n",
    "            self.applicant + \" : \" + self.inventor + \" $ \" + str(self.language)\n",
    "        )"
   ]
  }
 ],
 "metadata": {
  "language_info": {
   "name": "python"
  }
 },
 "nbformat": 4,
 "nbformat_minor": 2
}
